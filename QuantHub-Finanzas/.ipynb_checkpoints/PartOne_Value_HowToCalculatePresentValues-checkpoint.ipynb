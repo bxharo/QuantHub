{
 "cells": [
  {
   "cell_type": "code",
   "execution_count": 1,
   "id": "1da6b5e3-9fea-4f14-b61d-6fd85441cc5c",
   "metadata": {},
   "outputs": [],
   "source": [
    "import numpy as np\n",
    "import pandas as pd\n",
    "import matplotlib.pyplot as plt\n",
    "from scipy.optimize import fsolve"
   ]
  },
  {
   "cell_type": "markdown",
   "id": "80c55520-f425-452d-a160-19ceb999502b",
   "metadata": {},
   "source": [
    "## **Future Value**\n"
   ]
  },
  {
   "cell_type": "code",
   "execution_count": 3,
   "id": "34bd545b-b3b0-4ca0-a9d1-22e4954543a9",
   "metadata": {},
   "outputs": [],
   "source": [
    "\n",
    "def future_value(present_value, interest_rate, time):\n",
    "    return present_value*(1 + interest_rate)**t"
   ]
  },
  {
   "cell_type": "code",
   "execution_count": 4,
   "id": "aec45a79-cc93-44c1-b261-c4c04b65669e",
   "metadata": {},
   "outputs": [
    {
     "name": "stdout",
     "output_type": "stream",
     "text": [
      "3456.0\n",
      "She will earn  256.0 of interests in the first year\n",
      "Her investment will be worth: $ 4701.849845760002  at the end of 5 years\n",
      "In that final year she will earn $ 376.1\n"
     ]
    }
   ],
   "source": [
    "# 2.1 Self-Test\n",
    "# a. Janet Shih invests $3,200 at a compound interest rate of 8%. How much interest will she earn in the first year?\n",
    "pv = 3200\n",
    "ir = 0.08\n",
    "t = 1\n",
    "\n",
    "fv = future_value(pv,ir, t)\n",
    "print(fv)\n",
    "print(\"She will earn \", fv - pv, \"of interests in the first year\")\n",
    "\n",
    "# b. If she continues to keep her money invested, how much will her investment be worth at the end of five years?\n",
    "t = 5\n",
    "fv = future_value(pv, ir, t)\n",
    "\n",
    "print(\"Her investment will be worth: $\", fv, \" at the end of 5 years\")\n",
    "\n",
    "# c. If she keeps her money invested for an additional sixth year, how much interest will she earn in that final year?\n",
    "pv = fv\n",
    "t = 1\n",
    "fv = future_value(pv, ir, t)\n",
    "\n",
    "print(\"In that final year she will earn $\", round(fv - pv,1))"
   ]
  },
  {
   "cell_type": "markdown",
   "id": "6aedd59e-163d-44f1-9445-6fbbf2f20e93",
   "metadata": {},
   "source": [
    "## **Present Value**"
   ]
  },
  {
   "cell_type": "code",
   "execution_count": 26,
   "id": "baa1dd42-8559-4cae-bf9f-7220a5457767",
   "metadata": {},
   "outputs": [],
   "source": [
    "def present_value_dr(cash_flow, interest_rate, time):\n",
    "    return cash_flow/((1 + ir)**time)\n",
    "\n",
    "def present_value_DF(cash_flow, DF):\n",
    "    return cash_flow*DF"
   ]
  },
  {
   "cell_type": "code",
   "execution_count": 27,
   "id": "bf2e3ff0-24fa-406a-b0b5-b979f2f8e476",
   "metadata": {},
   "outputs": [
    {
     "name": "stdout",
     "output_type": "stream",
     "text": [
      "The present value is $ 95.0\n"
     ]
    }
   ],
   "source": [
    "# 2.2 Selft test\n",
    "# a. If the one-year discount factor is 0.95, what is the present value of $100 received in year 1?\n",
    "DF = 0.95 \n",
    "CF = 100\n",
    "PV = present_value_DF(CF, DF)\n",
    "\n",
    "print(\"The present value is $\", round(PV, 2))\n"
   ]
  },
  {
   "cell_type": "code",
   "execution_count": 32,
   "id": "0e3410f3-746b-48b1-9267-97380c1878de",
   "metadata": {},
   "outputs": [
    {
     "name": "stdout",
     "output_type": "stream",
     "text": [
      "The present value is $ 180.0\n"
     ]
    }
   ],
   "source": [
    "# b. If the two-year discount factor is 0.90, what is the present value of $200 received in year 2?\n",
    "CF = 200\n",
    "DF = 0.90\n",
    "PV = present_value_DF(CF , DF)\n",
    "\n",
    "print(\"The present value is $\", round(PV, 2))"
   ]
  },
  {
   "cell_type": "code",
   "execution_count": 30,
   "id": "f1c48ebc-41e1-452f-822f-b4dd3ae519fc",
   "metadata": {},
   "outputs": [
    {
     "name": "stdout",
     "output_type": "stream",
     "text": [
      "The three-year Discount Rate is  0.79\n"
     ]
    }
   ],
   "source": [
    "# c. If the interest rate is 8%, what is the three-year discount factor?\n",
    "r =0.08\n",
    "DF = (1/(1 + r)**3)\n",
    "\n",
    "print(\"The three-year Discount Rate is \", round(DF,2))"
   ]
  },
  {
   "cell_type": "code",
   "execution_count": 39,
   "id": "16e16181-a827-4262-ba49-eef89050e7bc",
   "metadata": {},
   "outputs": [
    {
     "name": "stdout",
     "output_type": "stream",
     "text": [
      "I need to invest $ 19000  today at an interest rate of 10% to receive $12000 in two years\n",
      "The present value for Gamma Motors is: $ 17917\n",
      "The present value for Delta Motors is: $ 19000\n",
      "The S$ 17917 total cost is better deal than the $ 19000\n"
     ]
    }
   ],
   "source": [
    "# Compating cash flows at differents dates\n",
    "#Example 2.2\n",
    "#Gamma Motors \n",
    "# Calculating the present value of 12000. ¿How much do I need to invest today to receive a cash flow of $12000 in 2 years?\n",
    "ir = 0.10\n",
    "CF = 12000\n",
    "t = 2\n",
    "PV1 = present_value_dr(CF, ir, t)\n",
    "PV2 = 8000\n",
    "print(\"I need to invest $\", round(PV, 2),\" today at an interest rate of 10% to receive $12000 in two years\")\n",
    "\n",
    "#Delta Motors\n",
    "PV = 20000 - 1000\n",
    "\n",
    "print(\"The present value for Gamma Motors is: $\", round(PV1 + PV2))\n",
    "print(\"The present value for Delta Motors is: $\", round(PV))\n",
    "print(\"The S$\", round(PV1 + PV2), \"total cost is better deal than the $\", PV)\n",
    "\n"
   ]
  },
  {
   "cell_type": "code",
   "execution_count": null,
   "id": "726c6cec-3627-4cab-8871-7f44e2c52069",
   "metadata": {},
   "outputs": [],
   "source": [
    "#2.3 Self-Test\n",
    "#True or false?\n",
    "#a. To calculate the present value of $1 million received in year 10, you need to divide by the 10-year discount factor.\n",
    "# False. You need to multiply the cash flow by the Discount Factor.\n",
    "\n",
    "#b. The present value of $1 million received in year 10 is less than $1 million.\n",
    "# True. Because you multiply that cash flow by the Discount Factor \n",
    "\n",
    "#c. Other things equal, the higher the interest rate, the greater is the present value of a future cash flow.\n",
    "#False. The higher the interest rate the smaller the present value of a future cash flow"
   ]
  },
  {
   "cell_type": "markdown",
   "id": "e2edcfb7-08a4-4d22-a7e3-8ee212d7075d",
   "metadata": {},
   "source": [
    "## **Present Values with Multiple Cash Flows**"
   ]
  },
  {
   "cell_type": "code",
   "execution_count": 22,
   "id": "265f0fee-fb2a-4294-8036-0d4571497407",
   "metadata": {},
   "outputs": [
    {
     "name": "stdout",
     "output_type": "stream",
     "text": [
      "Net Present Value for cash flows C0, C1 and C2 is $: 20344.387755102012\n"
     ]
    }
   ],
   "source": [
    "#Example 2.3\n",
    "\n",
    "def present_value_multiple_cashflow(cash_flows, dr):\n",
    "    pv_m = 0\n",
    "    \n",
    "    for t, cf in enumerate(cash_flows[1:], start = 1):\n",
    "        pv_m = pv_m + cf*(1/(1+dr)**t)\n",
    "\n",
    "    return pv_m;\n",
    "\n",
    "dr = 0.12\n",
    "cash_flows = np.array([-700000,30000,870000])\n",
    "PV = present_value_multiple_cashflow(cash_flows, dr)\n",
    "NPV = cash_flows[0] + PV\n",
    "\n",
    "print(\"Net Present Value for cash flows C0, C1 and C2 is $:\", NPV)"
   ]
  },
  {
   "cell_type": "markdown",
   "id": "7ce2f723-26a0-46fd-9054-7cbfac4134f3",
   "metadata": {},
   "source": [
    "## **Valuing a Perpetuity**"
   ]
  },
  {
   "cell_type": "code",
   "execution_count": 2,
   "id": "b6d0c1ae-ab92-40b8-b024-242e356b53c3",
   "metadata": {},
   "outputs": [
    {
     "name": "stdout",
     "output_type": "stream",
     "text": [
      "I need to write a check for $ 10000000000.0  today\n"
     ]
    }
   ],
   "source": [
    "def anual_return_of_perpetuity(C, PV):\n",
    "    return C/PV;\n",
    "\n",
    "def PV_of_perpetuity(r, C):\n",
    "    return C/r;\n",
    "    \n",
    "#year 2030 \n",
    "#Give 1000000000 in perpetuity\n",
    "r = 0.10\n",
    "C = 1000000000\n",
    "\n",
    "PV  = PV_of_perpetuity(r, C)\n",
    "\n",
    "print(\"I need to write a check for $\", round(PV, 2), \" today\")"
   ]
  },
  {
   "cell_type": "code",
   "execution_count": 7,
   "id": "5d3f7662-d419-459b-85c5-81344ec3e232",
   "metadata": {},
   "outputs": [
    {
     "name": "stdout",
     "output_type": "stream",
     "text": [
      "The present value of the money tree is:  114285.71\n"
     ]
    }
   ],
   "source": [
    "#2.5 Sefl test\n",
    "#a You have planted a money tree that is expected to produce $8,000 at the end of each\n",
    "#year in perpetuity starting one year from now. If the interest rate is 7%, what is the\n",
    "#present value of the money tree?\n",
    "\n",
    "C = 8000\n",
    "r = 0.07\n",
    "\n",
    "PV =  PV_of_perpetuity(r, C)\n",
    "\n",
    "print(\"The present value of the money tree is: \",round(PV,2))\n"
   ]
  },
  {
   "cell_type": "code",
   "execution_count": 8,
   "id": "6d415f59-b622-4cfc-9474-5e4c6c171718",
   "metadata": {},
   "outputs": [
    {
     "name": "stdout",
     "output_type": "stream",
     "text": [
      "The delayed perpetuity value is:  99821.57\n"
     ]
    }
   ],
   "source": [
    "#b Now you realize that the tree will not start to bear fruit until the end of year 3. How\n",
    "#does this change your calculation of the tree’s value?\n",
    "\n",
    "PV_Delayed = PV * (1/(1+r)**2)\n",
    "\n",
    "print(\"The delayed perpetuity value is: \", round(PV_Delayed,2))"
   ]
  },
  {
   "cell_type": "code",
   "execution_count": 12,
   "id": "854281ae-491c-405d-b55b-775b6e0ea97e",
   "metadata": {},
   "outputs": [
    {
     "name": "stdout",
     "output_type": "stream",
     "text": [
      "The present Value of all the payments today is:  20500987.18\n"
     ]
    }
   ],
   "source": [
    "#Example 2.6 \n",
    "C = 5000000\n",
    "r = 0.07\n",
    "PV_delayed =  C/r*(1/((1+r)**5))\n",
    "PV = C/r - PV_delayed\n",
    "t = 5\n",
    "\n",
    "print(\"The present Value of all the payments today is: \", round(PV,2))"
   ]
  },
  {
   "cell_type": "code",
   "execution_count": 3,
   "id": "5644b4d6-a91c-437e-bba2-24369764bd35",
   "metadata": {},
   "outputs": [
    {
     "name": "stdout",
     "output_type": "stream",
     "text": [
      "The four annual payments will be: $ 315.47\n"
     ]
    }
   ],
   "source": [
    "# 2.7 Suppose that you take out a four-year loan of $1,000. The bank\n",
    "#requires you to repay the loan evenly over the four years. It must therefore set the four annual\n",
    "#payments so that they have a present value of $1,000. \n",
    "\n",
    "t = 4\n",
    "PV = 1000\n",
    "r = 0.10\n",
    "\n",
    "def annuityFactor(t, r):\n",
    "    return (1/r - 1/(r*((1+r)**t)))\n",
    "    \n",
    "AF  = annuityFactor(t, r)\n",
    "\n",
    "# PV = C * (AnnuityFactor) -> C = PV / AnnuityFactor\n",
    "\n",
    "\n",
    "C = PV/ AF\n",
    "\n",
    "print(\"The annual loan payment will be: $\", round(C,2))\n",
    "\n"
   ]
  },
  {
   "cell_type": "code",
   "execution_count": 4,
   "id": "f6072d27-43d3-426d-81d4-f874bc6cf689",
   "metadata": {},
   "outputs": [
    {
     "data": {
      "text/plain": [
       "31035.914387985795"
      ]
     },
     "execution_count": 4,
     "metadata": {},
     "output_type": "execute_result"
    }
   ],
   "source": [
    "C = 250000/(1/0.12 -(1/(0.12*((1+0.12)**30))))\n",
    "C"
   ]
  },
  {
   "cell_type": "code",
   "execution_count": 6,
   "id": "49a709a5-917d-47cf-8128-3a9e49a09bbd",
   "metadata": {},
   "outputs": [
    {
     "name": "stdout",
     "output_type": "stream",
     "text": [
      "At the end of the year the value is:  $ 1.12\n",
      "The present value is $: 1.0\n"
     ]
    }
   ],
   "source": [
    "#Example 2.11:\n",
    "r = 0.11\n",
    "t = 1\n",
    "pv = 1\n",
    "fv = 1*np.e**(0.11*1)\n",
    "\n",
    "print(\"At the end of the year the value is:  $\", round(fv,2))\n",
    "print(\"The present value is $:\", round(fv/(np.e**(r*t)),2))"
   ]
  },
  {
   "cell_type": "code",
   "execution_count": 14,
   "id": "8c5b1017-5f37-423e-9e34-490cb4e2eb24",
   "metadata": {},
   "outputs": [
    {
     "name": "stdout",
     "output_type": "stream",
     "text": [
      "Assuming that I spend each amount at the end of the year. Use the simple annuity formula \n",
      " I must save: $ 1702712.74\n",
      "Asuming my spend will be spread evenly over the year. I need to saved: $ 1758670.5296\n"
     ]
    }
   ],
   "source": [
    "#You plan to spend 200000 a year for 20 years. The annually compounded interest rate is 10%. \n",
    "#How much must you save by the time you retire to support this spending plan\n",
    "c = 200000\n",
    "r = 0.10\n",
    "t = 20\n",
    "\n",
    "PV = c*(1/r - (1/(r*((1+r)**t))))\n",
    "p = np.log(1 + r) \n",
    "\n",
    "PV_cont = c*(1/p -(1/(p*((1+p)**t))))\n",
    "print(\"Assuming that I spend each amount at the end of the year. Use the simple annuity formula \\n\",\n",
    "        \"I must save: $\", round(PV,2))\n",
    "\n",
    "print(\"Asuming my spend will be spread evenly over the year. I need to saved: $\", round(PV_cont,4))"
   ]
  },
  {
   "cell_type": "code",
   "execution_count": null,
   "id": "a45d76dc-5d7e-49cc-91c0-7e0420d44fec",
   "metadata": {},
   "outputs": [],
   "source": [
    "#2.9 Selft Test\n",
    "# Suppose you invest $1 in an investment that pays interest m times a year. If the quoted interest rate is r per year, \n",
    "#what is the value of your investment at the end of 1 year ?\n",
    "#  FV = PV * (1 + r)*t => FV = c * (1 + r/m)**m\n",
    "#  FV = c * (1 + r/m)**m*n\n",
    "#  FV = e**r\n",
    "#  FV = e**nr\n"
   ]
  },
  {
   "cell_type": "markdown",
   "id": "7c78fefd-7541-4fad-af64-1f48d22d59b4",
   "metadata": {},
   "source": [
    "# 2. Compound interest (S2.1)  \n",
    "Old Time Savings Bank pays 4% interest on its savings account.  \n",
    "If you deposit \\\\$1,000 in the bank and leave it there:  \n",
    "a. How much interest will you earn in the first year?  \n",
    "b. How much interest will you earn in the second year?  \n",
    "c. How much interest will you earn in the tenth year?  "
   ]
  },
  {
   "cell_type": "code",
   "execution_count": 13,
   "id": "feb63cfb-f907-4857-b693-e6ebab08c0fc",
   "metadata": {},
   "outputs": [
    {
     "name": "stdout",
     "output_type": "stream",
     "text": [
      " Año Interés ganado\n",
      "   1         $40.00\n",
      "   2         $41.60\n",
      "  10         $56.93\n"
     ]
    }
   ],
   "source": [
    "#2. Compunded interest\n",
    "\n",
    "PV = 1000   # depósito inicial\n",
    "r = 0.04      # 4% interés anual\n",
    "\n",
    "# Años a calcular\n",
    "years = [1, 2, 10]\n",
    "results = []\n",
    "\n",
    "for t in years:\n",
    "    FV_t = PV * (1 + r)**t\n",
    "    FV_prev = PV * (1 + r)**(t-1) if t > 0 else PV\n",
    "    interest = FV_t - FV_prev\n",
    "    results.append({\"Año\": t, \"Interés ganado\": interest})\n",
    "\n",
    "df = pd.DataFrame(results)\n",
    "\n",
    "# Formato con 2 decimales\n",
    "df[\"Interés ganado\"] = df[\"Interés ganado\"].apply(lambda x: f\"${x:,.2f}\")\n",
    "print(df.to_string(index=False))"
   ]
  },
  {
   "cell_type": "code",
   "execution_count": 24,
   "id": "654f64f4-2d46-48d9-9cad-6d45fea940b5",
   "metadata": {},
   "outputs": [
    {
     "data": {
      "text/plain": [
       "0.4093542044295033"
      ]
     },
     "execution_count": 24,
     "metadata": {},
     "output_type": "execute_result"
    }
   ],
   "source": [
    "GR = (32*(10**9)/2250)**(1/48)-1\n",
    "GR "
   ]
  },
  {
   "cell_type": "markdown",
   "id": "46481fca-9897-4ced-9666-ffa3e7f1c4a6",
   "metadata": {},
   "source": [
    "# 3. Compound interest (S2.1) \n",
    "In 1973, Gordon Moore, one of Intel’s founders, predicted that the number of transistors that could be placed on a single silicon chip would double every 18 months, equivalent to an annual growth rate of 59% (i.e., 1.591.5 = 2.0). The first microprocessor was built in 1971 and had 2,250 transistors. In 2019, the AMD Epyc chip contained 32 billion transistors, 1.42 million times the number of transistors 48 years earlier.  \n",
    "What has been the annual compound rate of growth in processing power?  \n",
    "How does it compare with the prediction of Moore’s law?"
   ]
  },
  {
   "cell_type": "code",
   "execution_count": 14,
   "id": "951d6193-09da-4483-b6cc-61b337ee2b61",
   "metadata": {},
   "outputs": [
    {
     "name": "stdout",
     "output_type": "stream",
     "text": [
      "Tasa anual compuesta observada: 40.9354%\n",
      "Predicción de Moore: 59.00%\n"
     ]
    }
   ],
   "source": [
    "\n",
    "N0 = 2250\n",
    "Nt = 32e9  \n",
    "t = 48      \n",
    "\n",
    "# Tasa compuesta anual\n",
    "g = (Nt/N0)**(1/t) - 1\n",
    "\n",
    "# Predicción de Moore (59%)\n",
    "moore_pred = 0.59\n",
    "\n",
    "print(f\"Tasa anual compuesta observada: {g:.4%}\")\n",
    "print(f\"Predicción de Moore: {moore_pred:.2%}\")\n"
   ]
  },
  {
   "cell_type": "markdown",
   "id": "fd46aa8a-de75-4c90-a20b-46b3cf453c69",
   "metadata": {},
   "source": [
    "# 7. Future values (S2.1) \n",
    "Compute the future value of a \\\\$100 investment for the following combinations of rates and times.\n",
    "a. r = 6%, t = 10 years.\n",
    "b. r = 6%, t = 20 years.\n",
    "c. r = 4%, t = 10 years.\n",
    "d. r = 4%, t = 20 years."
   ]
  },
  {
   "cell_type": "code",
   "execution_count": 39,
   "id": "4ade5bf1-c23c-47f9-95a1-8638f44d26db",
   "metadata": {},
   "outputs": [
    {
     "name": "stdout",
     "output_type": "stream",
     "text": [
      "The future value in  20 years is: $ 219.11\n"
     ]
    }
   ],
   "source": [
    "pv = 100\n",
    "t = 20\n",
    "r = 0.04\n",
    "\n",
    "fv = 100*(1+r)**t\n",
    "\n",
    "print(\"The future value in \",t,\"years is: $\",round(fv,2))\n"
   ]
  },
  {
   "cell_type": "markdown",
   "id": "404bbd81-7c57-4a8c-9f13-f6ef738af842",
   "metadata": {},
   "source": [
    "# 8. Discount factors (S2.1)\n",
    "a. If the present value of \\\\$139 is \\\\$125, what is the discount factor?  \n",
    "b. If that \\\\$139 is received in year 5, what is the interest rate?"
   ]
  },
  {
   "cell_type": "code",
   "execution_count": 43,
   "id": "03e74dd9-89d4-46d0-a791-824e1f9e9f33",
   "metadata": {},
   "outputs": [
    {
     "name": "stdout",
     "output_type": "stream",
     "text": [
      "The discount factor is  0.8992805755395683\n",
      "The discount ratio is:  0.021459042644897286\n"
     ]
    }
   ],
   "source": [
    "\n",
    "pv = 125\n",
    "fv = 139\n",
    "\n",
    "print(\"The discount factor is \", pv/fv )\n",
    "\n",
    "r = (fv/pv)**(1/5) -1 \n",
    "print(\"The discount ratio is: \", r)"
   ]
  },
  {
   "cell_type": "markdown",
   "id": "76efaa63-0bb5-4eef-b67b-7d7a24706cae",
   "metadata": {},
   "source": [
    "# 9. Present values (S2.1) \n",
    "If the cost of capital is 9%, what is the PV of $374 paid in year 9?"
   ]
  },
  {
   "cell_type": "code",
   "execution_count": 47,
   "id": "611482fd-f644-40d7-b5f2-00df403ad9a4",
   "metadata": {},
   "outputs": [
    {
     "name": "stdout",
     "output_type": "stream",
     "text": [
      "The present value is :  172.19998953909652\n"
     ]
    }
   ],
   "source": [
    "pv = 374/((1+0.09)**9)\n",
    "\n",
    "print(\"The present value is : \",pv)"
   ]
  },
  {
   "cell_type": "markdown",
   "id": "10121362-ddf4-4835-adab-39830cc4a696",
   "metadata": {},
   "source": [
    "# 10. Present values (2.1) \n",
    "A project produces a cash flow of \\\\$432 in year 1, \\\\$137 in year 2, and \\\\$797 in year 3. If the cost of capital is 15%, what is the project’s PV? If the project requires an\n",
    "investment of \\\\$1,200, what is its NPV?"
   ]
  },
  {
   "cell_type": "code",
   "execution_count": 49,
   "id": "a84a17a8-6d7e-44c2-b8f5-456a606941a9",
   "metadata": {},
   "outputs": [
    {
     "name": "stdout",
     "output_type": "stream",
     "text": [
      "The present value of the proyect is:  1003.28\n",
      "The Net Present Value of the project is:  -196.72\n"
     ]
    }
   ],
   "source": [
    "#10\n",
    "pv = 432/1.15 + 137/(1.15)**2 + 797/(1.15)**3\n",
    "print(\"The present value of the proyect is: \", round(pv,2))\n",
    "\n",
    "NPV = -1200 + pv\n",
    "print(\"The Net Present Value of the project is: \", round(NPV,2))"
   ]
  },
  {
   "cell_type": "markdown",
   "id": "5a0623b5-17e1-46af-a0ed-03fd87ade9b3",
   "metadata": {},
   "source": [
    "# 11. Present values (2.1)\n",
    "What is the PV of $100 received in:  \n",
    "a. Year 10 (at a discount rate of 1%)?  \n",
    "b. Year 10 (at a discount rate of 13%)?  \n",
    "c. Year 15 (at a discount rate of 25%)?  \n",
    "d. Each of years 1 through 3 (at a discount rate of 12%)?"
   ]
  },
  {
   "cell_type": "code",
   "execution_count": 55,
   "id": "b2a2ecf5-b974-4ca1-8c6d-909518107c07",
   "metadata": {},
   "outputs": [
    {
     "name": "stdout",
     "output_type": "stream",
     "text": [
      "The present value for year 10 where r is 1% 90.52869546929833\n",
      "The present value for year 10 where r is 13% 29.458834812612547\n",
      "The present value for year 15 where r is 25% 3.5184372088832\n",
      "PV of $100 received in each of years 1 through 3 (at a discount rate of 12%) [89.28571429 79.71938776 71.17802478]\n"
     ]
    }
   ],
   "source": [
    "#11\n",
    "def presentValue( fv , r, t):\n",
    "    return fv/((1 + r)**t)\n",
    "\n",
    "pv_cf = np.array([100/1.12, 100/(1.12)**2 , 100/(1.12)**3])\n",
    "print(\"The present value for year 10 where r is 1%\", presentValue(100,0.01,10))\n",
    "print(\"The present value for year 10 where r is 13%\", presentValue(100,0.13,10))\n",
    "print(\"The present value for year 15 where r is 25%\", presentValue(100,0.25,15))\n",
    "print(\"PV of $100 received in each of years 1 through 3 (at a discount rate of 12%)\", pv_cf)\n",
    "\n"
   ]
  },
  {
   "cell_type": "markdown",
   "id": "ccd346a1-9e62-4006-859b-a89940039b9d",
   "metadata": {},
   "source": [
    "# 12. Present values (S2.1) \n",
    "Lofting Snodbury is considering investing in a new boring machine. It\n",
    "costs \\\\$380,000 and is expected to produce the following cash flows:\n",
    "\n",
    "<img src=\"image_01.png\" width=\"600\">  \n",
    "If the cost of capital is 12%, what is the machine’s NPV?"
   ]
  },
  {
   "cell_type": "code",
   "execution_count": 27,
   "id": "589f0033-f3a4-4d13-a417-46362fb1b240",
   "metadata": {},
   "outputs": [
    {
     "name": "stdout",
     "output_type": "stream",
     "text": [
      "The present value of the multiples cash flows is : $ 403696.15\n",
      "The Net Present Value of the project is  23,696.15\n"
     ]
    }
   ],
   "source": [
    "r = 0.12\n",
    "cash_flows = [50,57,75,80,85,92,92,80,68,50]\n",
    "\n",
    "PV_1 = 0\n",
    "for i in np.arange(0,10):\n",
    "    PV_1 += cash_flows[i]*(1/((1+r)**(i+1)))\n",
    "\n",
    "print(\"The present value of the multiples cash flows is : $\", round(PV_1*1000, 2))\n",
    "print(\"The Net Present Value of the project is \", f\"{(-380000 + PV_1*1000):,.2f}\")\n",
    "\n"
   ]
  },
  {
   "cell_type": "markdown",
   "id": "1fc100a3-a4ed-40c8-8ed2-f2f8cde26b64",
   "metadata": {},
   "source": [
    "# 13. Present values(S2.1)  \n",
    "A factory costs \\\\$800,000. You estimate that it will produce an inflow after operating costs of \\\\$170,000 a year for 10 years. If the opportunity cost of capital is 14%, what is the net present value of the factory? What will the factory be worth at the end of five years?"
   ]
  },
  {
   "cell_type": "code",
   "execution_count": 76,
   "id": "019c5593-5729-4e80-9ad5-ec98d3d839c9",
   "metadata": {
    "scrolled": true
   },
   "outputs": [
    {
     "name": "stdout",
     "output_type": "stream",
     "text": [
      "The present value of the factory is: $ 886739.66\n",
      "The net present value of the factory is $ 86739.66\n",
      "At the end of five years the factory will be worth $ 1125993.04\n"
     ]
    }
   ],
   "source": [
    "\n",
    "I = 800000\n",
    "C = 170000\n",
    "t = 10 \n",
    "r = 0.14\n",
    "cash_flows = np.array([170000]*10)\n",
    "\n",
    "PV = np.sum(cash_flows/(1+r)**np.arange(1,len(cash_flows)+1))\n",
    "\n",
    "print(\"The present value of the factory is: $\", round(PV,2))\n",
    "print(\"The net present value of the factory is $\", round(-I+PV,2))\n",
    "\n",
    "#Cuando calculas el valor de la fábrica al final de 5 años, ya pasaron los años 1, 2, 3, 4 y 5, por lo tanto esos flujos ya los recibiste.\n",
    "#El valor en el año 5 significa: si me paro en ese momento y quiero vender la fábrica, \n",
    "#¿cuánto valen los flujos que aún faltan?\n",
    "\n",
    "#Solo calculamos el valor pendiente a partir del año 6 y que es lo que falta recibir\n",
    "#Esto sería una anualidad que empieza a recibirse en el año 6 hasta el año 10\n",
    "# Annuity factor => 1/r - (1/r(1-r)**t)\n",
    "\n",
    "PV = 170000*(1/0.14 - 1/((1-0.14)**5))\n",
    "\n",
    "print(\"At the end of five years the factory will be worth $\",round(PV,2))"
   ]
  },
  {
   "cell_type": "markdown",
   "id": "8ef8b318-508d-426e-9625-cc6a83ff10cb",
   "metadata": {},
   "source": [
    "## 14 Present Value\n",
    "\n",
    "Recalculate the NPV of the office building venture in Example 2.3 at\n",
    "interest rates of 5, 10, and 15%. Plot the points on a graph with NPV on the vertical axis and\n",
    "the discount rates on the horizontal axis. At what discount rate (approximately) would the\n",
    "project have zero NPV? Check your answer\n",
    "\n",
    "You have thought of an alternative to selling the office building at the end of the year. Instead of selling, you believe that you could rent it out for two years at \\\\$30,000 a year\n",
    "You forecast that at the end of that time you will be able to sell the building for \\\\$840,000.\n",
    "Thus, there are now two future cash flows—a cash flow of C1 = \\\\$30,000 at the end of one year and a further cash flow of C2 = (30,000 + 840,000) = \\\\$870,000 at the end of the second year.\n",
    "\n",
    "The present value of your property development is equal to the present value of C1\n",
    "plus the present value of C2."
   ]
  },
  {
   "cell_type": "code",
   "execution_count": 21,
   "id": "8bf02337-01af-4345-aa59-397d128a0dcc",
   "metadata": {},
   "outputs": [
    {
     "name": "stdout",
     "output_type": "stream",
     "text": [
      "El valor presente del eficio es : $ 720344.39\n",
      "El valor neto presente del eficio es : $ 20344.39\n"
     ]
    }
   ],
   "source": [
    "initial_investment = -700000\n",
    "cashflows = np.array([30000, 840000 + 30000])  #shape (2,)\n",
    "r = 0.12 \n",
    "periods = np.array(np.arange(1,len(cashflows)+1)) # shape (2,)\n",
    "\n",
    "pvs =  cashflows/(1+r)**periods\n",
    "\n",
    "pv = pvs.sum()\n",
    "npv = I + pv \n",
    "\n",
    "print(\"El valor presente del eficio es : $\", round(pv,2))\n",
    "print(\"El valor neto presente del eficio es : $\", round(npv,2))\n",
    "\n",
    "\n",
    "\n"
   ]
  },
  {
   "cell_type": "code",
   "execution_count": 42,
   "id": "7ca80b9b-cd2f-449a-adee-82fa495c42b6",
   "metadata": {},
   "outputs": [
    {
     "name": "stdout",
     "output_type": "stream",
     "text": [
      "[117687.07482993  46280.99173554 -16068.05293006]\n"
     ]
    },
    {
     "data": {
      "image/png": "[encoded data removed]",
      "text/plain": [
       "<Figure size 400x200 with 1 Axes>"
      ]
     },
     "metadata": {},
     "output_type": "display_data"
    }
   ],
   "source": [
    "initial_investment = -700000\n",
    "cashflows = np.array([30000, 840000 + 30000]) #shape (2,)\n",
    "rates = np.array([0.05, 0.10, 0.15])  #shape (3,)\n",
    "periods = np.array(np.arange(1,len(cashflows)+1)) # shape (2,)\n",
    "\n",
    "\n",
    "discounted_factors = 1/(1+rates[None,:])**periods[:,None]\n",
    "pvs = cashflows[:,None]*discounted_factors\n",
    "\n",
    "npvs = initial_investment + pvs.sum(axis=0) #A lo largo de las filas. Colapso las filas \n",
    "\n",
    "print(npvs)\n",
    "plt.figure(figsize=(4,2)) \n",
    "plt.plot(rates, npvs, marker = 'o')\n",
    "plt.xlabel('Discount rate')\n",
    "plt.ylabel('NPV')\n",
    "plt.title('NPV vs Discount Rate')\n",
    "plt.grid(True)\n",
    "\n",
    "plt.xticks(rates)  # para que solo aparezcan tus tasas\n",
    "plt.yticks(npvs)  # ejemplo de ticks en Y\n",
    "plt.axhline(0, color='black', linewidth=1)  # eje X en y=0\n",
    "plt.axvline(0, color='black', linewidth=1)  # eje Y en x=0\n",
    "\n",
    "plt.show()\n"
   ]
  },
  {
   "cell_type": "markdown",
   "id": "295760a1-ba27-41d4-b8d9-1817a55b138c",
   "metadata": {},
   "source": [
    "## 15 Present values and oportunity cost of capital\n",
    "Halcyon Lines is considering the purchase of a new bulk carrier for \\\\$8 million. The forecasted revenues are \\\\$5 million a year and\n",
    "operating costs are \\\\$4 million. A major refit costing \\\\$2 million will be required after both the\n",
    "fifth and tenth years. After 15 years, the ship is expected to be sold for scrap at $1.5 million.\n",
    "a. What is the NPV if the opportunity cost of capital is 8%?\n",
    "b. Halcyon could finance the ship by borrowing the entire investment at an interest rate of 4.5%. How does this borrowing opportunity affect your calculation of NPV?\n"
   ]
  },
  {
   "cell_type": "code",
   "execution_count": 14,
   "id": "4b80aefd-65c9-45f9-8e48-ff700efad519",
   "metadata": {},
   "outputs": [
    {
     "name": "stdout",
     "output_type": "stream",
     "text": [
      "The NPV if the cost of capital es 8% is: $ -1255212.12\n"
     ]
    }
   ],
   "source": [
    "initial_investment = -8e6\n",
    "c = 1e6  #revenues - operating cost\n",
    "r = 0.08\n",
    "t = 15\n",
    "pv_annuity =  c/r - c/(r*(1+r)**t)\n",
    "\n",
    "pv_refitcost = -2e6/((1+r)**5) + -2e6/((1+r)**10)\n",
    "\n",
    "pv_sold = 1.5e6/((1+r)**15)\n",
    "\n",
    "NPV = initial_investment + pv_annuity + pv_refitcost +pv_sold\n",
    "IRR = (NPV + initial_investment)/initial_investment\n",
    "\n",
    "print('The NPV if the cost of capital es 8% is: $', round(NPV,2))\n",
    "#The NPV of the project is a property of the project itself. Borrowing just changes how the project is financed, which affects the distribution of returns between shareholders and creditors, not the total NPV.\n",
    "\n",
    "#The borrowing opportunity at 4.5% does not change the project’s NPV. The NPV remains about –$1.26M when evaluated at the opportunity cost of \n",
    "capital of 8%. Financing decisions affect how returns are split between debt and equity, but they do not affect the project’s fundamental value.\n",
    "    "
   ]
  },
  {
   "cell_type": "markdown",
   "id": "8d9c1343-029d-4ca5-9d7a-f41bdf3c613f",
   "metadata": {},
   "source": [
    "## 16 Perpetuities (S2.2) \n",
    "An investment costs \\\\$1,548 and pays \\\\$138 in perpetuity. If the interest rate is 9%, what is the NPV?"
   ]
  },
  {
   "cell_type": "code",
   "execution_count": 16,
   "id": "11ba4098-6f41-450c-9287-765a1449b209",
   "metadata": {},
   "outputs": [
    {
     "name": "stdout",
     "output_type": "stream",
     "text": [
      "The Net Present Value is: $ -14.666666666666515\n"
     ]
    }
   ],
   "source": [
    "initial_investment = -1548\n",
    "c = 138\n",
    "r = 0.09\n",
    "\n",
    "pv = c/r\n",
    "NPV = initial_investment + pv\n",
    "\n",
    "print('The Net Present Value is: $', NPV)\n"
   ]
  },
  {
   "cell_type": "markdown",
   "id": "71cfef23-2f15-4830-9ccb-ae05ba96cfca",
   "metadata": {},
   "source": [
    "## 17 Perpetuities (S2.2) \n",
    "You have just read an advertisement stating, “Pay us \\\\$100 a year for 10\n",
    "years and we will pay you \\\\$100 a year thereafter in perpetuity.” If this is a fair deal, what is\n",
    "the rate of interest?"
   ]
  },
  {
   "cell_type": "code",
   "execution_count": 25,
   "id": "d8f71116-a05b-4577-bacb-5fff707e9836",
   "metadata": {},
   "outputs": [
    {
     "name": "stdout",
     "output_type": "stream",
     "text": [
      "The rate of interest that makes it a fair deal is 0.07177346253629299\n"
     ]
    }
   ],
   "source": [
    "c = 100\n",
    "r = 0.07\n",
    "t = 10\n",
    "\n",
    "# Equation: PV inflows - PV outflows = 0\n",
    "def f(r):\n",
    "    pv_inflows = (c / r) * (1 / (1 + r)**t)   #annuity\n",
    "    pv_outflows = c * (1 - (1 + r)**(-t)) / r #delayed perpetuity\n",
    "    return pv_inflows - pv_outflows\n",
    "\n",
    "# Solve for r, starting guess 0.05 (5%)\n",
    "r_solution = fsolve(f,0.05)[0]\n",
    "print(\"The rate of interest that makes it a fair deal is\", r_solution )"
   ]
  },
  {
   "cell_type": "markdown",
   "id": "41513b81-ecf1-4e0e-adcf-021f9891a042",
   "metadata": {},
   "source": [
    "# 18. Perpetuities and annuities (S2.2) \n",
    "The interest rate is 10%  \n",
    "a. What is the PV of an asset that pays \\\\$1 a year in perpetuity?  \n",
    "b. The value of an asset that appreciates at 10% per annum approximately doubles in seven years. What is the approximate PV of an asset that pays \\\\$1 a year in perpetuity beginning in year 8?  \n",
    "c. What is the approximate PV of an asset that pays \\\\$1 a year for each of the next seven years?  \n",
    "d. A piece of land produces an income that grows by 5% per annum. If the first year’s income is \\\\$10,000, what is the value of the land?"
   ]
  },
  {
   "cell_type": "code",
   "execution_count": 31,
   "id": "00ff65f4-7b27-486b-bc37-94a5ee82f8d2",
   "metadata": {},
   "outputs": [
    {
     "name": "stdout",
     "output_type": "stream",
     "text": [
      "The present value is: $ 10.0\n",
      "The present value of that perpetuity that starts at year 8 is : $ 5.13\n",
      "The present value for each of the seven years  is 4.868418817692936\n",
      "The present value of that growing perpetuity is :$ 200000.0\n"
     ]
    }
   ],
   "source": [
    "r = 0.10\n",
    "c = 1\n",
    "\n",
    "pv = c/r #present value of a perpetuity\n",
    "print(\"The present value is: $\", round(pv,2)) \n",
    "\n",
    "t = 7\n",
    "pv_delayed = (c/r)*(1/(1+r)**t) # present value of a delayed perpetuity\n",
    "print(\"The present value of that perpetuity that starts at year 8 is : $\", round(pv_delayed,2))\n",
    "\n",
    "t = 7\n",
    "pv_annuity = c/r - (c/r)*(1/((1+r)**t)) #this is an annuity (perpetuity - delayed perpetuity)\n",
    "print(\"The present value for each of the seven years  is\", pv_annuity)\n",
    "\n",
    "c = 10000\n",
    "g = 0.05\n",
    "r = 0.10\n",
    "#here r> g then :\n",
    "pv = c/(r-g)\n",
    "print(\"The present value of that growing perpetuity is :$\",round(pv,2))"
   ]
  },
  {
   "cell_type": "markdown",
   "id": "75dcf3db-bccd-48b9-900b-6d4e4fa9d6aa",
   "metadata": {},
   "source": [
    "# 19. Discount factors and annuity factors (S2.2)\n",
    "a. If the one-year discount factor is 0.905, what is the one-year interest rate?  \n",
    "b. If the two-year interest rate is 10.5%, what is the two-year discount factor?  \n",
    "c. Given these one- and two-year discount factors, calculate the two-year annuity factor.  \n",
    "d. If the PV of \\\\$10 a year for three years is \\\\$24.65, what is the three-year annuity factor?  \n",
    "e. From your answers to parts (c) and (d), calculate the three-year discount factor."
   ]
  },
  {
   "cell_type": "code",
   "execution_count": 5,
   "id": "01f26ebc-5d45-469d-af88-7a62080d45ac",
   "metadata": {},
   "outputs": [
    {
     "name": "stdout",
     "output_type": "stream",
     "text": [
      "a) One-year interest rate: 10.50%\n",
      "b) Two-year discount factor: 0.8190\n",
      "c)The two-year annuity factor is 1.723984\n",
      "d)The three-year annuity factor is : 2.465000\n",
      "e) The three year discount factor is:  0.741016\n"
     ]
    }
   ],
   "source": [
    "discount_factor_1 =  0.905 # discount factor = 1/(1+r)**t\n",
    "t = 1 \n",
    "r1 = (1/discount_factor_1) -1\n",
    "print(\"a) One-year interest rate:\", f\"{r1*100:.2f}%\")\n",
    "\n",
    "r2 = 0.105\n",
    "t2 = 2\n",
    "discount_factor_2 = 1/((1+r2)**t2)\n",
    "print(\"b) Two-year discount factor:\", f\"{discount_factor_2:.4f}\")\n",
    "\n",
    "annuty_factor_2year = discount_factor_1 + discount_factor_2\n",
    "print(\"c)The two-year annuity factor is\",f\"{annuty_factor_2year:.4f}\")\n",
    "\n",
    "pv = 24.65\n",
    "c = 10\n",
    "t = 3\n",
    "\n",
    "annuty_factor_3year = pv/c \n",
    "print(\"d)The three-year annuity factor is :\", f\"{annuty_factor_3year:.2f}\")\n",
    "\n",
    "#annuty_factor_3year = annuity_factor_2year + discount_factor_3\n",
    "discount_factor_3 = annuty_factor_3year - annuty_factor_2year\n",
    "print(\"e) The three year discount factor is: \", f\"{discount_factor_3:.4f}\")\n",
    "\n"
   ]
  },
  {
   "cell_type": "markdown",
   "id": "2c49528b-8ac5-4c23-a4cc-3dfd3f472c2b",
   "metadata": {},
   "source": [
    "# 20 Annuities (S2.2) \n",
    "David and Helen Zhang are saving to buy a boat at the end of five years. If the boat costs \\\\$20,000 and they can earn 10% a year on their savings, how much do they need to put aside at the end of years 1 through 5?"
   ]
  },
  {
   "cell_type": "code",
   "execution_count": 29,
   "id": "8eca99d3-e884-478d-8cbb-4b06c0fef31a",
   "metadata": {},
   "outputs": [
    {
     "name": "stdout",
     "output_type": "stream",
     "text": [
      "They have to save : $ 3275.95  per year\n"
     ]
    }
   ],
   "source": [
    "FV_goal = 20000\n",
    "r = 0.10\n",
    "n = 5\n",
    "\n",
    "periods = np.arange(1,n+1) # (5,)\n",
    "factors = (1+r)**(n - periods)\n",
    "\n",
    "FV_factor = factors.sum()   #total factor\n",
    "C = FV_goal/FV_factor\n",
    "\n",
    "print(\"They have to save : $\", f\"{C:.2f}\", \" per year\")"
   ]
  },
  {
   "cell_type": "markdown",
   "id": "12fa84c8-9136-440d-a270-4a7dd5d3dd38",
   "metadata": {},
   "source": [
    "# 21. Annuities (S2.2) \n",
    "Siegfried Basset is 65 years of age and has a life expectancy of 12 more years. He wishes to invest \\\\$20,000 in an annuity that will make a level payment at the end\n",
    "of each year until his death. If the interest rate is 8%, what income can Mr. Basset expect to receive each year?"
   ]
  },
  {
   "cell_type": "code",
   "execution_count": 3,
   "id": "f543c5ea-379c-4acc-b085-c75458f2d742",
   "metadata": {},
   "outputs": [
    {
     "name": "stdout",
     "output_type": "stream",
     "text": [
      "Mr. Basset can expect to receive each year $ 2653.900338\n"
     ]
    },
    {
     "data": {
      "text/plain": [
       "np.float64(7.536078016925104)"
      ]
     },
     "execution_count": 3,
     "metadata": {},
     "output_type": "execute_result"
    }
   ],
   "source": [
    "initial_investment = 20000 #shape (1,)\n",
    "r = 0.08\n",
    "n = 12\n",
    "periods = np.arange(1, n+1)\n",
    "\n",
    "#factor de descuento de cada año\n",
    "discount_factors = 1 / ((1 + r)**periods)\n",
    "\n",
    "annuity_factor = discount_factors.sum()\n",
    "\n",
    "C = initial_investment/annuity_factor\n",
    "\n",
    "print(\"Mr. Basset can expect to receive each year $\", f\"{C:.2f}\")\n",
    "annuity_factor"
   ]
  },
  {
   "cell_type": "markdown",
   "id": "143a07f2-96cb-4a94-8755-7eeaf3798af7",
   "metadata": {},
   "source": [
    "# 22. Annuities (S2.2) \n",
    "Several years ago, The Wall Street Journal reported that the winner of the Massachusetts State Lottery prize had the misfortune to be both bankrupt and in prison for fraud. The prize was \\\\$9,420,713, to be paid in 19 equal annual installments. (There were 20 installments, but the winner had already received the first payment.) The bankruptcy court\n",
    "judge ruled that the prize should be sold off to the highest bidder and the proceeds used to pay off the creditors.  \n",
    "a. If the interest rate was 8%, how much would you have been prepared to bid for the prize?  \n",
    "b. Enhance Reinsurance Company was reported to have offered \\\\$4.2 million. Use Excel to find the return that the company was looking for."
   ]
  },
  {
   "cell_type": "code",
   "execution_count": 26,
   "id": "150d5b13-308a-45de-a2b5-da297cd03376",
   "metadata": {},
   "outputs": [
    {
     "name": "stdout",
     "output_type": "stream",
     "text": [
      "I would have been prepared to bid $ 4,523,637.59\n",
      "r ≈ 0.09054540300754216 => 9.054540%\n",
      "Check PV: 4200000.000000001\n"
     ]
    }
   ],
   "source": [
    "#it's a due annuity\n",
    "PV = 9_420_713\n",
    "n = 20\n",
    "periods = np.arange( 1 ,n )\n",
    "r = 0.08\n",
    "C = PV/n\n",
    "\n",
    "factors = 1/((1+r)**periods)\n",
    "\n",
    "PV_bid = C*(factors).sum()\n",
    "\n",
    "print(\"I would have been prepared to bid $\",f\"{PV_bid:,.2f}\")\n",
    "\n",
    "#r is between [0,1]\n",
    "pv_offered = 4_200_000\n",
    "n_ = 19\n",
    "\n",
    "def pv_closed(r):\n",
    "    return C/r - C/(r*((1+r)**n_))\n",
    "\n",
    "low, high = 0.0, 1.0 # buscamos r en [0%, 100%]\n",
    "for _ in range(60): # 60 iteraciones -> suficiente precisión\n",
    "    mid = 0.5*(low + high)\n",
    "    \n",
    "    if pv_closed(mid) > pv_offered:\n",
    "        low = mid # si PV(mid) > target => r debe subir (subo el límite inferior)\n",
    "    else:\n",
    "        high = mid # si PV(mid) < target => r debe bajar (bajo el límite superior)\n",
    "\n",
    "\n",
    "r_implied = 0.5 * (low + high)\n",
    "print(\"r ≈\", r_implied, \"=>\", f\"{r_implied*100:.6f}%\")\n",
    "print(\"Check PV:\", pv_closed(r_implied))"
   ]
  },
  {
   "cell_type": "markdown",
   "id": "3e41196b-54b5-49fa-a802-8999f56615bc",
   "metadata": {},
   "source": [
    "# 23. Annuities (S2.2) \n",
    "The annually compounded discount rate is 5.5%. You are asked to calculate the present value of a 12-year annuity with payments of \\\\$50,000 per year. Calculate PV for\n",
    "each of the following cases.  \n",
    "a. The annuity payments arrive at one-year intervals. The first payment arrives one year from now.  \n",
    "b. The first payment arrives in six months. Following payments arrive at one-year intervals (i.e., at 18 months, 30 months, etc.).  "
   ]
  },
  {
   "cell_type": "code",
   "execution_count": 38,
   "id": "454294dc-c170-4dff-963d-20c8e73d1249",
   "metadata": {},
   "outputs": [
    {
     "name": "stdout",
     "output_type": "stream",
     "text": [
      "The present value when the payments arrive at one year intervals is $ 430,925.89\n",
      "The present value if the first payment arrives in six months is $ 432,081.04\n"
     ]
    }
   ],
   "source": [
    "r = 0.055\n",
    "n = 12\n",
    "C = 5e4\n",
    "\n",
    "pv_ordinary = C/r - C/(r*((1+r)**n))\n",
    "\n",
    "print(\"The present value when the payments arrive at one year intervals is $\", f\"{pv_ordinary:,.2f}\")\n",
    "\n",
    "#el pago inicia 6 meses antes así que traemos el pv 6 meses al presente\n",
    "pv_shifted = pv_ordinary*((1+r)**(0.05))\n",
    "\n",
    "print(\"The present value if the first payment arrives in six months is $\", f\"{pv_shifted:,.2f}\")\n"
   ]
  },
  {
   "cell_type": "markdown",
   "id": "2c3ad491-bada-4149-a7e4-97fa2f18ff75",
   "metadata": {},
   "source": [
    "# 24. Annuities (S2.2)\n",
    "Dear Financial Adviser,\n",
    "My spouse and I are each 62 and hope to retire in three years. After retirement we will receive $7,500 per month after taxes from our employers’ pension plans and \\\\$1,500 per month after taxes from Social Security. Unfortunately our monthly living expenses are \\\\$15,000.  \n",
    "Our social obligations preclude further economies. We have \\\\$1,000,000 invested in a high-grade, tax-free municipal-bond mutual fund. The return on the fund is 3.5% per year. We plan to make annual withdrawals from the mutual fund to cover the difference between our pension and Social Security income and our living expenses. How many years before we run out of money?\n",
    "Sincerely,  \n",
    "Luxury Challenged  \n",
    "Marblehead, MA  \n",
    "You can assume that the withdrawals (one per year) will sit in a checking account (no\n",
    "interest) until spent. The couple will use the account to cover the monthly shortfalls."
   ]
  },
  {
   "cell_type": "code",
   "execution_count": 46,
   "id": "0dd37344-7a5d-46b8-aa91-7f5550dd207c",
   "metadata": {},
   "outputs": [
    {
     "name": "stdout",
     "output_type": "stream",
     "text": [
      "La cantidad de años que tendrían para gastar el dinero serían 19.35\n"
     ]
    }
   ],
   "source": [
    "# --- Datos del retiro ---\n",
    "monthly_expenses = 15000\n",
    "monthly_pension = 7500\n",
    "monthly_social_security = 1500\n",
    "\n",
    "# Déficit mensual y anual\n",
    "deficit_monthly_retirement = monthly_expenses - monthly_pension - monthly_social_security\n",
    "deficit_annual_retirement = deficit_monthly_retirement * 12  # Cálculo anual\n",
    "\n",
    "# Capital inicial y tasa anual\n",
    "capital_initial = 1_000_000\n",
    "interest_rate = 0.035\n",
    "\n",
    "# --- Función para calcular años hasta agotar el fondo ---\n",
    "def years_until_fund_depleted(PV, C, r, n_low=10, n_high=30, iterations=60):\n",
    "    \"\"\"\n",
    "    Calcula años hasta que se agota el fondo usando bisección.\n",
    "    PV: capital inicial\n",
    "    C: retiro anual\n",
    "    r: tasa anual\n",
    "    n_low, n_high: rango inicial de búsqueda\n",
    "    \"\"\"\n",
    "    def present_value(n):\n",
    "        return C/r - C/(r*((1+r)**n))\n",
    "    \n",
    "    low, high = n_low, n_high\n",
    "    for _ in range(iterations):\n",
    "        mid = 0.5*(low + high)\n",
    "        if present_value(mid) < PV:\n",
    "            low = mid   # aumenta n\n",
    "        else:\n",
    "            high = mid  # disminuye n\n",
    "    return 0.5*(low + high)\n",
    "\n",
    "# --- Cálculo ---\n",
    "n_years_retirement = years_until_fund_depleted(\n",
    "    PV=capital_initial,\n",
    "    C=deficit_annual_retirement,\n",
    "    r=interest_rate\n",
    ")\n",
    "\n",
    "# --- Resultado ---\n",
    "print(f\"La cantidad de años que tendrían para gastar el dinero serían {n_years_retirement:.2f}\")"
   ]
  },
  {
   "cell_type": "markdown",
   "id": "cda7f6ba-8b5c-4a12-89a7-7ecd9caa3535",
   "metadata": {},
   "source": [
    "# 25. Perpetuities and annuities (S2.2, S2.3) \n",
    "If the rate of interest is 8% rather than 10%, how much would you need to set aside to provide each of the following?  \n",
    "a. \\\\$1 billion at the end of each year in perpetuity.  \n",
    "b. A perpetuity that pays \\\\$1 billion at the end of the first year and that grows at 4% a year.  \n",
    "c. \\\\$1 billion at the end of each year for 20 years.  \n",
    "d. \\\\$1 billion a year spread evenly over 20 years.  "
   ]
  },
  {
   "cell_type": "code",
   "execution_count": 33,
   "id": "aa14c077-90c3-443b-aaa1-8aa24704c5c6",
   "metadata": {},
   "outputs": [
    {
     "name": "stdout",
     "output_type": "stream",
     "text": [
      "I would need to set aside $  12,500,000,000.00  and $  10,000,000,000.00 for 8% and 10% interest rate, respectevely\n",
      "For a 4% growing perpetuity I would need to provide $ 25,000,000,000.00\n",
      "9818147407.449295\n",
      "For 20 years of a 1B annuality I would need to set aside $ 9,818,147,407.45\n",
      "For 20 years of an annuality with continous compounding rate I would need to set aside $ 10,205,836,368.65\n"
     ]
    }
   ],
   "source": [
    "# --- Input Data ---\n",
    "interest_rate = np.array([0.08, 0.10]) #shape (2,)\n",
    "annually_cashflow_in_perpetuity_ = 1e9 #shape (1,)\n",
    "\n",
    "annually_cashflow_in_perpetuity_\n",
    "# --- Function to calculate the present value for a perpetuity (broadcasting for the two interest rate)---\n",
    "def present_value_for_a_perpetuity(C, r):\n",
    "    return C/r\n",
    "    \n",
    "investment_for_1B_perpetuity = present_value_for_a_perpetuity(annually_cashflow_in_perpetuity_,interest_rate)\n",
    "\n",
    "# --- Output result ---\n",
    "print(\"I would need to set aside $ \", f\"{investment_for_1B_perpetuity[0]:,.2f}\",\" and $ \",f\"{investment_for_1B_perpetuity[1]:,.2f}\",\"for 8% and 10% interest rate, respectevely\")\n",
    "\n",
    "# --- Input Data ---\n",
    "growing_rate = 0.04\n",
    "interest_rate = 0.08\n",
    "\n",
    "def present_value_for_growing_perpetuity(g, r, C):\n",
    "    if(r <= g):\n",
    "       raise ValueError(\"Interest rate must be greater than growth rate\")\n",
    "    return C / (r - g)\n",
    "\n",
    "\n",
    "investment_for_1B_growing_perpetuity = present_value_for_growing_perpetuity(growing_rate,interest_rate, annually_cashflow_in_perpetuity)\n",
    "\n",
    "print(\"For a 4% growing perpetuity I would need to provide $\", f\"{investment_for_1B_growing_perpetuity:,.2f}\")\n",
    "\n",
    "interest_rate = 0.08\n",
    "annualy_cashflow = 1e9 #shape (1,)\n",
    "n_years_of_annuity = 20\n",
    "\n",
    "def present_value_for_annuity(r,C,n):\n",
    "    return C/r - C/(r*((1+r)**n))\n",
    "\n",
    "investment_for_20_years_1B_annuity = present_value_for_annuity(interest_rate, annualy_cashflow, n_years_of_annuity)\n",
    "\n",
    "print(\"For 20 years of a 1B annuality I would need to set aside $\", f\"{investment_for_20_years_1B_annuity:,.2f}\")\n",
    "\n",
    "interest_rate = 0.08\n",
    "p_cc_interest = np.log(1 + interest_rate)\n",
    "t_years_of_cashflows = 20\n",
    "annually_cashflow = 1e9\n",
    "\n",
    "def present_value_continous_cashflow(r,C,t):\n",
    "    if r<=0:\n",
    "        raise ValueError(\"r must be >0\")\n",
    "    else:\n",
    "        present_value_cc = C*(1/r - (1/r)*(1/(np.e**(r*t))))\n",
    "    \n",
    "    return present_value_cc\n",
    "\n",
    "investment_1B_20years_cc = present_value_continous_cashflow(p_cc_interest,annually_cashflow,t_years_of_cashflows )\n",
    "\n",
    "\n",
    "print(\"For 20 years of an annuality with continous compounding rate I would need to set aside $\", f\"{investment_1B_20years_cc:,.2f}\")"
   ]
  },
  {
   "cell_type": "markdown",
   "id": "9921e303-3e9c-480e-b40f-86bee50230d1",
   "metadata": {},
   "source": [
    "# 26. Annuities due (S2.2) \n",
    "The \\\\$40 million lottery prize that you have just won actually pays out \\\\$2 million a year for 20 years. The interest rate is 8%.\n",
    "a. If the first payment comes after 1 year, what is the present value of your winnings?  \n",
    "b. What is the present value if the first payment comes immediately?"
   ]
  },
  {
   "cell_type": "code",
   "execution_count": 44,
   "id": "6814de58-1e71-434a-975b-fd0ebfe2f6d3",
   "metadata": {},
   "outputs": [
    {
     "name": "stdout",
     "output_type": "stream",
     "text": [
      "The present value of my winnings is $ 19,636,294.81\n",
      "The present value of my winnigs if the payment comes immediately is $ 21,207,198.40\n"
     ]
    }
   ],
   "source": [
    "interest_rate = 0.08\n",
    "t = 20\n",
    "FV = 40e6\n",
    "C = 2e6\n",
    "\n",
    "def present_value_ordinary_annuity(r,C,t):\n",
    "    if r<=0:\n",
    "        raise ValueError(\"r must be >0\")\n",
    "    else:\n",
    "        return C*(1/r - 1/(r*((1 + r)**t)))\n",
    "        \n",
    "pv_annuity = present_value_ordinary_annuity(interest_rate, C, t)\n",
    "\n",
    "print(\"The present value of my winnings is $\", f\"{pv_annuity:,.2f}\")\n",
    "\n",
    "\n",
    "def present_value_due_annuity(r, C, t):\n",
    "    if r<= 0:\n",
    "        raise ValueError(\"r must be >0\")\n",
    "    else:\n",
    "        return C*(1/r - (1/(r*(1 + r)**t)))*(1+r)\n",
    "\n",
    "pv_due_annuity = present_value_due_annuity(interest_rate, C, t)\n",
    "\n",
    "print(\"The present value of my winnigs if the payment comes immediately is $\",f\"{pv_due_annuity:,.2f}\")"
   ]
  },
  {
   "cell_type": "markdown",
   "id": "939fe9c4-9701-444a-8d93-f060f6a95da0",
   "metadata": {},
   "source": [
    "# 27. Annuities due (S2.2) \n",
    "A store offers two payment plans. Under the installment plan, you pay 25% down and 25% of the purchase price in each of the next three years. If you pay the entire bill immediately, you can take a 10% discount from the purchase price.  \n",
    "a. Which is the better deal if the interest rate is 5%?  \n",
    "b. How will your answer change if the four payments on the installments do not start until the end of the year?\n"
   ]
  },
  {
   "cell_type": "code",
   "execution_count": 52,
   "id": "e7028bed-a7ab-4e2e-9ecb-6fefb3017e35",
   "metadata": {},
   "outputs": [
    {
     "name": "stdout",
     "output_type": "stream",
     "text": [
      "For the first deal I pay $ 93.08\n",
      "For the second deal I pay $ 90.00\n",
      "If the four payments on the installments do not start until the end of the year, for the first deal, I pay $ 88.65\n",
      "If the four payments on the installments do not start until the end of the year, for the second deal I pay $ 90.00\n"
     ]
    }
   ],
   "source": [
    "# Case 1\n",
    "P = 100 #normalized price\n",
    "cashflows = np.array([0.25*P, 0.25*P, 0.25*P, 0.25*P]) #shape (4,)\n",
    "periodos = np.arange(len(cashflows)) #shape (4,)\n",
    "interest_rate = 0.05\n",
    "\n",
    "\n",
    "pv_of_cashflows = cashflows*(1/(1+interest_rate)**periodos)\n",
    "pv_total_a =  pv_of_cashflows.sum()\n",
    "\n",
    "pv_total_b = P - 0.10*P\n",
    "\n",
    "\n",
    "print(\"For the first deal I pay $\",f\"{pv_total_a:,.2f}\")\n",
    "print(\"For the second deal I pay $\",f\"{pv_total_b:,.2f}\")\n",
    "\n",
    "periodos = np.arange(1,len(cashflows)+1)\n",
    "pv_of_cashflows = cashflows*(1/(1+interest_rate)**periodos)\n",
    "pv_total_a =  pv_of_cashflows.sum()\n",
    "\n",
    "pv_total_b = P - 0.10*P\n",
    "\n",
    "print(\"If the four payments on the installments do not start until the end of the year, for the first deal, I pay $\",f\"{pv_total_a:,.2f}\")\n",
    "print(\"If the four payments on the installments do not start until the end of the year, for the second deal I pay $\",f\"{pv_total_b:,.2f}\")\n"
   ]
  },
  {
   "cell_type": "markdown",
   "id": "504d7b78-ce7b-4b54-a6c0-140758de5802",
   "metadata": {},
   "source": [
    "# 28. Amortizing loans (S2.2)  \n",
    "A bank loan requires you to pay \\\\$70,000 at the end of each of the next eight years. The interest rate is 8%.  \n",
    "a. What is the present value of these payments?  \n",
    "b. For each year, calculate the loan balance that remains outstanding, the interest payment on the loan, and the reduction in the loan balance  "
   ]
  },
  {
   "cell_type": "code",
   "execution_count": 6,
   "id": "b67790e5-0731-4d35-9027-0ee1c9745d00",
   "metadata": {},
   "outputs": [
    {
     "name": "stdout",
     "output_type": "stream",
     "text": [
      "a) The present value of the loan is: $ 402,264.73\n",
      "[8 7 6 5 4 3 2 1 0]\n",
      "b) The answer is: \n",
      "  Balance start  Interests   Loan reduction  Balance end\n",
      "    402,264.73   32,181.18       37,818.82   364,445.90\n",
      "    364,445.90   29,155.67       40,844.33   323,601.58\n",
      "    323,601.58   25,888.13       44,111.87   279,489.70\n",
      "    279,489.70   22,359.18       47,640.82   231,848.88\n",
      "    231,848.88   18,547.91       51,452.09   180,396.79\n",
      "    180,396.79   14,431.74       55,568.26   124,828.53\n",
      "    124,828.53    9,986.28       60,013.72    64,814.81\n",
      "     64,814.81    5,185.19       64,814.81         0.00\n"
     ]
    }
   ],
   "source": [
    "C = 70_000\n",
    "r = 0.08\n",
    "t = 8\n",
    "\n",
    "def present_value_annuity(C,r,t):\n",
    "    if r <= 0:\n",
    "        raise ValueError(\"r must be > 0\")\n",
    "    else:\n",
    "        return (C/r) - (C/r)*(1/(1+r)**t)\n",
    "    \n",
    "pv_loan = present_value_annuity(C, r, t)\n",
    "\n",
    "print(\"a) The present value of the loan is: $\", f\"{pv_loan:,.2f}\")\n",
    "\n",
    "#remaining payment matrix\n",
    "\n",
    "periods = np.arange(0, t + 1) #desde el inicio antes de hacer el primer pago hasta luego de hacer el último pago\n",
    "remaining_years = t - periods\n",
    "\n",
    "balances = C/r - ((C/r)*(1/((1 + r)**remaining_years)))\n",
    "interests = balances[:-1]*r\n",
    "reductions = C - interests\n",
    "\n",
    "#imprimir todo en una matrix con pandas\n",
    "\n",
    "df = pd.DataFrame({\n",
    "    \"Balance start\": balances[:-1],\n",
    "    \"Interests \": interests,\n",
    "    \"Loan reduction\": reductions,\n",
    "    \"Balance end\": balances[1:]\n",
    "    })\n",
    "print(remaining_years)\n",
    "print(\"b) The answer is: \\n\",df.to_string(index=False, float_format=\"{:,.2f}\".format))\n"
   ]
  },
  {
   "cell_type": "markdown",
   "id": "66495b74-12f2-4995-ad65-2a90ddf57be9",
   "metadata": {},
   "source": [
    "# 29. Amortizing loans (S2.2) \n",
    "Suppose that you take out a \\\\$200,000, 20-year mortgage loan to buy a condo. The interest rate on the loan is 6%, and payments on the loan are made annually at the end of each year.  \n",
    "a. What is your annual payment on the loan?  \n",
    "b. Construct a mortgage amortization table in Excel similar to Table 2.1, showing the interest payment, the amortization of the loan, and the loan balance for each year.  \n",
    "c. What fraction of your initial loan payment is interest? What about the last payment? What fraction of the loan has been paid off after 10 years? Why is the fraction less than half?  "
   ]
  },
  {
   "cell_type": "code",
   "execution_count": 11,
   "id": "d107484d-eb11-41b0-8bbe-57371b680e21",
   "metadata": {},
   "outputs": [
    {
     "name": "stdout",
     "output_type": "stream",
     "text": [
      "a) The annual payment of the loan is $ 17,436.91\n",
      " Year  Beginning Balance  Interest   Payment  Amortization  Ending Balance\n",
      "    1         200,000.00 12,000.00 17,436.91      5,436.91      194,563.09\n",
      "    2         194,563.09 11,673.79 17,436.91      5,763.13      188,799.96\n",
      "    3         188,799.96 11,328.00 17,436.91      6,108.91      182,691.05\n",
      "    4         182,691.05 10,961.46 17,436.91      6,475.45      176,215.60\n",
      "    5         176,215.60 10,572.94 17,436.91      6,863.98      169,351.63\n",
      "    6         169,351.63 10,161.10 17,436.91      7,275.81      162,075.81\n",
      "    7         162,075.81  9,724.55 17,436.91      7,712.36      154,363.45\n",
      "    8         154,363.45  9,261.81 17,436.91      8,175.10      146,188.34\n",
      "    9         146,188.34  8,771.30 17,436.91      8,665.61      137,522.73\n",
      "   10         137,522.73  8,251.36 17,436.91      9,185.55      128,337.19\n",
      "   11         128,337.19  7,700.23 17,436.91      9,736.68      118,600.51\n",
      "   12         118,600.51  7,116.03 17,436.91     10,320.88      108,279.62\n",
      "   13         108,279.62  6,496.78 17,436.91     10,940.13       97,339.49\n",
      "   14          97,339.49  5,840.37 17,436.91     11,596.54       85,742.95\n",
      "   15          85,742.95  5,144.58 17,436.91     12,292.33       73,450.61\n",
      "   16          73,450.61  4,407.04 17,436.91     13,029.87       60,420.74\n",
      "   17          60,420.74  3,625.24 17,436.91     13,811.67       46,609.07\n",
      "   18          46,609.07  2,796.54 17,436.91     14,640.37       31,968.71\n",
      "   19          31,968.71  1,918.12 17,436.91     15,518.79       16,449.92\n",
      "   20          16,449.92    986.99 17,436.91     16,449.92            0.00\n"
     ]
    }
   ],
   "source": [
    "#Input data\n",
    "loan = 200_000\n",
    "t = 20\n",
    "r = 0.06\n",
    "\n",
    "def calculate_annuity_payments(r, PV ,t ):\n",
    "    if r<= 0:\n",
    "        raise ValueError(\"r must be > 0\")\n",
    "    else:\n",
    "        return PV/(1/r  - (1/r)*(1/(1+r)**t))\n",
    "\n",
    "C = calculate_annuity_payments(r, loan, t )\n",
    "                   \n",
    "print(\"a) The annual payment of the loan is $\", f\"{C:,.2f}\")\n",
    "\n",
    "\n",
    "# Mortage amortization table \n",
    "schedule = []\n",
    "balance = loan\n",
    "\n",
    "for i in range(1,t +1):\n",
    "    beggining_balance = balance\n",
    "    interest = beggining_balance*r\n",
    "    amortization = C - interest\n",
    "    ending_balance = beggining_balance - amortization\n",
    "\n",
    "    schedule.append([\n",
    "        i,\n",
    "        beggining_balance,\n",
    "        interest,\n",
    "        C,\n",
    "        amortization,\n",
    "        ending_balance\n",
    "    ])\n",
    "    balance = ending_balance\n",
    "\n",
    "df = pd.DataFrame(\n",
    "    schedule,\n",
    "    columns=[\n",
    "        \"Year\", \n",
    "        \"Beginning Balance\", \n",
    "        \"Interest\", \n",
    "        \"Payment\", \n",
    "        \"Amortization\", \n",
    "        \"Ending Balance\" \n",
    "    ])\n",
    "\n",
    "print(df.to_string(index=False, float_format=\"{:,.2f}\".format))\n"
   ]
  },
  {
   "cell_type": "markdown",
   "id": "8386f26c-2f6c-4a8a-b021-795a10c6c75b",
   "metadata": {},
   "source": [
    "# 30. Future values and annuities (S2.2)\n",
    "a. The cost of a new automobile is \\\\$10,000. If the interest rate is 5%, how much would you have to set aside now to provide this sum in five years?  \n",
    "b. You have to pay \\\\$12,000 a year in school fees at the end of each of the next six years. If the interest rate is 8%, how much do you need to set aside today to cover these bills?  \n",
    "c. You have invested \\\\$60,476 at 8%. After paying the above school fees, how much would remain at the end of the six years?"
   ]
  },
  {
   "cell_type": "code",
   "execution_count": 13,
   "id": "fb5e469e-3346-476b-a969-04abad612348",
   "metadata": {},
   "outputs": [
    {
     "name": "stdout",
     "output_type": "stream",
     "text": [
      "I need to put aside $ 7,835.26\n",
      "I need to put aside $ 55,474.56\n",
      "At the end of 6 years my investment will growth to $ 7,936.66\n"
     ]
    }
   ],
   "source": [
    "principal = 10000\n",
    "interest_rate = 0.05\n",
    "t = 5\n",
    "\n",
    "pv = principal/((1+interest_rate)**t)\n",
    "\n",
    "print(\"I need to put aside $\", f\"{pv:,.2f}\")\n",
    "\n",
    "principal_fee = 12000\n",
    "interest_rate = 0.08\n",
    "t=6\n",
    "\n",
    "pv_fee = principal_fee*(1/interest_rate - (1/(interest_rate*((1+interest_rate)**t))))\n",
    "\n",
    "print(\"I need to put aside $\", f\"{pv_fee:,.2f}\")\n",
    "\n",
    "principal = 60_476\n",
    "interest_rate = 0.08\n",
    "t = 6\n",
    "\n",
    "fv = (principal - pv_fee)*(1+interest_rate)**t\n",
    "print(\"At the end of 6 years my investment will growth to $\", f\"{fv:,.2f}\")\n",
    "\n"
   ]
  },
  {
   "cell_type": "markdown",
   "id": "4523bfc2-ee2c-4130-8e24-79023ba51e07",
   "metadata": {},
   "source": [
    "# 31. Growing perpetuities (S2.3) \n",
    "A common stock will pay a cash dividend of $4 next year. After that, the dividends are expected to increase indefinitely at 4% per year. If the discount rate is 14%, what is the PV of the stream of dividend payments?\n"
   ]
  },
  {
   "cell_type": "code",
   "execution_count": 16,
   "id": "e50a23a8-064f-4526-8591-311407d78d92",
   "metadata": {},
   "outputs": [
    {
     "name": "stdout",
     "output_type": "stream",
     "text": [
      "The present value of that stream of dividentd payment is : $ 40.00\n"
     ]
    }
   ],
   "source": [
    "\n",
    "C = 4\n",
    "g = 0.04\n",
    "r = 0.14\n",
    "\n",
    "def pv_growing_perpetuity(C, r):\n",
    "    if r<g:\n",
    "        raise ValueError(\"r must be > g\")\n",
    "    else:\n",
    "        return C/(r-g)\n",
    "\n",
    "pv_perpetuity = pv_growing_perpetuity(C,r)\n",
    "\n",
    "print(\"The present value of that stream of dividentd payment is : $\", f\"{pv_perpetuity:,.2f}\")"
   ]
  },
  {
   "cell_type": "markdown",
   "id": "610da723-cb24-4a9e-8ad5-d582a3e45a9c",
   "metadata": {},
   "source": [
    "# 32. Growing annuities (S2.3) \n",
    "You estimate that by the time you retire in 35 years, you will have accumulated savings of \\\\$2 million. If the interest rate is 8% and you live 15 years after retirement, what annual level of expenditure will those savings support?  \n",
    "Unfortunately, inflation will eat into the value of your retirement income.  Assume a 4% inflation rate and work out a spending program for your $2 million in retirement savings that will allow you to increase your expenditure in line with inflation."
   ]
  },
  {
   "cell_type": "code",
   "execution_count": 29,
   "id": "26edc5e8-55a6-41f8-867f-38c066e6310d",
   "metadata": {},
   "outputs": [
    {
     "name": "stdout",
     "output_type": "stream",
     "text": [
      " Year  Growing Annuity Payment\n",
      "    1               185,070.59\n",
      "    2               192,473.41\n",
      "    3               200,172.35\n",
      "    4               208,179.24\n",
      "    5               216,506.41\n",
      "    6               225,166.67\n",
      "    7               234,173.33\n",
      "    8               243,540.27\n",
      "    9               253,281.88\n",
      "   10               263,413.15\n",
      "   11               273,949.68\n",
      "   12               284,907.67\n",
      "   13               296,303.97\n",
      "   14               308,156.13\n",
      "   15               320,482.38\n"
     ]
    }
   ],
   "source": [
    "principal = 2e6\n",
    "t = 15\n",
    "inflation = 0.04\n",
    "r = 0.08\n",
    "\n",
    "def C_growing_annuitie(r,pv,t,g):\n",
    "    if r<g:\n",
    "        raise ValueError(\"r must be > g\")\n",
    "    else:\n",
    "        return pv*(r-g)/(1- ((1+g)**t)/(1+r)**t)\n",
    "\n",
    "C_growing_annuity = C_growing_annuitie(r, principal,t,g)\n",
    "periods = np.arange(0,t )\n",
    "\n",
    "annual_level_expenditure = C_growing_annuity*(1 + inflation)**periods\n",
    "\n",
    "\n",
    "df = pd.DataFrame(\n",
    "    {\n",
    "        \"Year\": range(1,t+1),\n",
    "        \"Growing Annuity Payment\": annual_level_expenditure\n",
    "    })\n",
    "\n",
    "print(df.to_string(index=False, float_format=\"{:,.2f}\".format))\n",
    "\n"
   ]
  },
  {
   "cell_type": "markdown",
   "id": "ac321207-4883-4bd6-aaed-bb46c51897f6",
   "metadata": {},
   "source": [
    "# 35. Growing perpetuities and annuities (S2.3) \n",
    "Your firm’s geologists have discovered a small oil field in New York’s Westchester County. The field is forecasted to produce a cash flow of C1 = \\\\$2 million in the first year.  \n",
    "You estimate that you could earn a return of r = 12% from investing in stocks with a similar degree of risk to your oil field. Therefore, 12% is the opportunity cost of capital.  What is the present value? The answer, of course, depends on\n",
    "what happens to the cash flows after the first year. Calculate present value for the following cases:  \n",
    "a. The cash flows are forecasted to continue forever, with no expected growth or decline.  \n",
    "b. The cash flows are forecasted to continue for 20 years only, with no expected growth or decline during that period.  \n",
    "c. The cash flows are forecasted to continue forever, increasing by 3% per year because of inflation.  \n",
    "d. The cash flows are forecasted to continue for 20 years only, increasing by 3% per year because of inflation.  "
   ]
  },
  {
   "cell_type": "code",
   "execution_count": 20,
   "id": "a66bcbaa-ab0a-4b43-8e7f-93f49e4ba592",
   "metadata": {},
   "outputs": [
    {
     "name": "stdout",
     "output_type": "stream",
     "text": [
      "If the cash flows are forecast to continue forever then the present value would be: $ 16,666,666.67\n",
      "If the cash flows are forecast to continue for 20 years then the present value would be: $ 14,938,887.25\n",
      "If the cash flows are forecast to continue forever, increasing 3% per year 22,222,222.22\n",
      "If the cash flows are forecast to continue forever, increasing 3% per year 18,061,473.13\n"
     ]
    }
   ],
   "source": [
    "C = 2e6\n",
    "r = 0.12\n",
    "\n",
    "#a. The cash flows are forecasted to continue forever, with no expected growth or decline.\n",
    "\n",
    "def pv_of_a_perpetuity(r, C):\n",
    "    if r<=0:\n",
    "        raise ValueError(\"r must be > 0\")\n",
    "    else:\n",
    "        return C/r\n",
    "\n",
    "pv_perpetuity = pv_of_a_perpetuity(r, C)\n",
    "\n",
    "print(\"If the cash flows are forecast to continue forever then the present value would be: $\",f\"{pv_perpetuity:,.2f}\")\n",
    "\n",
    "#b. The cash flows are forecasted to continue for 20 years only, with no expected growth or decline during that period.\n",
    "\n",
    "t = 20\n",
    "\n",
    "def pv_of_an_annuity(r,C,t):\n",
    "    if r<=0:\n",
    "        raise ValueError(\"r must be > 0\")\n",
    "    else:\n",
    "        return C*(1/r -(1/r)*(1/(1+r)**t))\n",
    "\n",
    "pv_annuity = pv_of_an_annuity(r,C,t)\n",
    "                 \n",
    "print(\"If the cash flows are forecast to continue for 20 years then the present value would be: $\",f\"{pv_annuity:,.2f}\")\n",
    "\n",
    "#c. The cash flows are forecasted to continue forever, increasing by 3% per year because of inflation.\n",
    "\n",
    "g = 0.03\n",
    "\n",
    "def pv_growing_perpetuity(r,C,g):\n",
    "    if (r<=0 or r<=g):\n",
    "        raise ValueError(\"r must be > 0 and r must be > g\")\n",
    "    else:\n",
    "        return C/(r - g)\n",
    "\n",
    "pv_growing_perp = pv_growing_perpetuity(r,C,g)\n",
    "\n",
    "print(\"If the cash flows are forecast to continue forever, increasing 3% per year\", f\"{pv_growing_perp:,.2f}\")\n",
    "\n",
    "\n",
    "#d. The cash flows are forecasted to continue for 20 years only, increasing by 3% per year because of inflation.\n",
    "def pv_growing_annuity(r, C, g):\n",
    "    if(r<=0 or r<=g):\n",
    "        raise ValueError(\"r must be > 0 and > g\")\n",
    "    else:\n",
    "        return C*(1/(r-g))*(1 - ((1+g)**t)/((1+r)**t))\n",
    "\n",
    "pv_grow_annuiy = pv_growing_annuity(r, C, g)\n",
    "\n",
    "print(\"If the cash flows are forecast to continue forever, increasing 3% per year\", f\"{pv_grow_annuiy:,.2f}\")\n",
    "\n",
    "\n"
   ]
  },
  {
   "cell_type": "markdown",
   "id": "7ede0252-6f07-4d66-9cf4-208beb4d57fb",
   "metadata": {},
   "source": [
    "# 36. Compounding intervals (S2.4)  \n",
    "A leasing contract calls for an immediate payment of \\\\$100,000 and nine subsequent \\\\$100,000 semiannual payments at six-month intervals. What is the PV of these payments if the annual discount rate is 8%?"
   ]
  },
  {
   "cell_type": "code",
   "execution_count": 24,
   "id": "3d08777c-434b-44a3-b12e-528f6462365d",
   "metadata": {},
   "outputs": [
    {
     "name": "stdout",
     "output_type": "stream",
     "text": [
      "The present value of these payments is $ 843,533.16\n"
     ]
    }
   ],
   "source": [
    "m = 2 #number of payments per year\n",
    "C = 100000\n",
    "r = 0.08\n",
    "PV_0 = 100000\n",
    "\n",
    "def r_period(m, r): # When payments match the frequency of the nominal rate (here 6 months)\n",
    "    return r/m\n",
    "\n",
    "r_per_period =  r_period(m, r)\n",
    "\n",
    "t = 9\n",
    "\n",
    "def annuity_compounding_intervals(r, C, t):\n",
    "    if r<=0:\n",
    "        raise ValueError(\"r must be > 0\")\n",
    "    else:\n",
    "        return C*(1/r-((1/r)*(1/(1+r)**t)))\n",
    "\n",
    "PV_1 = annuity_compounding_intervals(r_per_period, C, t)\n",
    "\n",
    "print(\"The present value of these payments is $\", f\"{PV_0+PV_1:,.2f}\")\n",
    "\n",
    "\n",
    "    "
   ]
  },
  {
   "cell_type": "markdown",
   "id": "7ebca1d6-7384-4757-b88b-819cd631034e",
   "metadata": {},
   "source": [
    "# 37. Compounding intervals (S2.4) \n",
    "Which would you prefer?  \n",
    "a. An investment paying interest of 12% compounded annually.  \n",
    "b. An investment paying interest of 11.7% compounded semiannually.  \n",
    "c. An investment paying 11.5% compounded continuously.  \n",
    "Work out the value of each of these investments after 1, 5, and 20 years.  "
   ]
  },
  {
   "cell_type": "code",
   "execution_count": 53,
   "id": "7d604d62-c4c7-4195-aa10-2fad5fd67632",
   "metadata": {},
   "outputs": [
    {
     "name": "stdout",
     "output_type": "stream",
     "text": [
      " Comparación de las inversiones (por cada $1 invertido):\n",
      "\n",
      " En 1 año(s), la mejor opción es: C -> 11.5% (compuesto continuamente) con 1.121873\n",
      "\n",
      " En 5 año(s), la mejor opción es: C -> 11.5% (compuesto continuamente) con 1.777131\n",
      "\n",
      " En 20 año(s), la mejor opción es: C -> 11.5% (compuesto continuamente) con 9.974182\n"
     ]
    }
   ],
   "source": [
    "years = [1, 5, 20]\n",
    "results = []\n",
    "\n",
    "# Definimos las inversiones\n",
    "rates = {\n",
    "    \"A -> 12% anual (compuesto anualmente)\": {\"type\": \"annual\", \"r\": 0.12},\n",
    "    \"B -> 11.7% nominal (compuesto semestral)\": {\"type\": \"nominal\", \"r_nom\": 0.117, \"m\": 2},\n",
    "    \"C -> 11.5% (compuesto continuamente)\": {\"type\": \"continuous\", \"r\": 0.115},\n",
    "}\n",
    "\n",
    "for name, info in rates.items():\n",
    "   for t in years:\n",
    "        if(info[\"type\"] == \"annual\"):\n",
    "            value = (1 + info[\"r\"])**t\n",
    "        elif(info[\"type\"] == \"nominal\"):\n",
    "            value = (1 + (info[\"r_nom\"]/info[\"m\"]))**(info[\"m\"]*t)\n",
    "        elif(info[\"type\"] == \"continuous\"):\n",
    "            value = np.exp(info[\"r\"]*t)\n",
    "        results.append({\"Inversión\": name, \"Años\": t, \"Valor Futuro (por $1)\": value})\n",
    "\n",
    "df = pd.DataFrame(results)\n",
    "df[\"Valor Futuro (por $1)\"] = df[\"Valor Futuro (por $1)\"].round(6)\n",
    "\n",
    "print(\" Comparación de las inversiones (por cada $1 invertido):\")\n",
    "#print(df.to_string(index=False)) #Mostrar la tabla limpia sin índices ! :)\n",
    "\n",
    "for t in years:\n",
    "    sub = df[df[\"Años\"] == t].sort_values(by=\"Valor Futuro (por $1)\", ascending=False)\n",
    "    best = sub.iloc[0]\n",
    "    print(f\"\\n En {t} año(s), la mejor opción es: {best['Inversión']} con {best['Valor Futuro (por $1)']}\")"
   ]
  },
  {
   "cell_type": "markdown",
   "id": "9cc5436c-0a02-4282-bef4-2ac1480c5ca5",
   "metadata": {},
   "source": [
    "# 38. Compounding intervals (S2.4) \n",
    "You are quoted an interest rate of 6% on an investment of \\\\$10 million. What is the value of your investment after four years if interest is compounded:  \n",
    "a. Annually?  \n",
    "b. Monthly?  \n",
    "c. Continuously?  "
   ]
  },
  {
   "cell_type": "code",
   "execution_count": 62,
   "id": "f54042c9-7149-4310-8c42-1c94a84657b0",
   "metadata": {},
   "outputs": [
    {
     "name": "stdout",
     "output_type": "stream",
     "text": [
      "    Inversión  Años  Valor Futuro\n",
      "   Annualy 6%     4 12,624,769.60\n",
      "   Monthly 6%     4 12,704,891.61\n",
      "Continouly 6%     4 12,712,491.50\n"
     ]
    }
   ],
   "source": [
    "future_value = 0\n",
    "t = 4\n",
    "C = 10e6\n",
    "rates = {\n",
    "\n",
    "    \"Annualy 6%\": {\"type\": \"annual\",\"r\": 0.06},\n",
    "    \"Monthly 6%\": {\"type\": \"monthly\",\"r_nom\":0.06, \"m\":12},\n",
    "    \"Continouly 6%\": {\"type\": \"continous\",\"r\":0.06}\n",
    "}\n",
    "\n",
    "results = []\n",
    "\n",
    "\n",
    "for name, info in rates.items():\n",
    "    if info[\"type\"]==\"annual\":\n",
    "        value = C*(1+info[\"r\"])**t\n",
    "    elif info[\"type\"]==\"monthly\":\n",
    "         value = C*(1+ (info[\"r_nom\"]/info[\"m\"]))**(info[\"m\"]*t)\n",
    "    else:\n",
    "        value = C*np.exp(info[\"r\"]*t)\n",
    "\n",
    "    results.append({\"Inversión\": name, \"Años\": t, \"Valor Futuro\": value})\n",
    "\n",
    "df = pd.DataFrame(results)\n",
    "df[\"Valor Futuro\"] = df[\"Valor Futuro\"].apply(lambda x :f\"{x:,.2f}\")\n",
    "\n",
    "print(df.to_string(index=False)) #Mostrar la tabla limpia sin índices ! :)"
   ]
  },
  {
   "cell_type": "markdown",
   "id": "6c0ae969-caea-4fb3-9071-17a4ed5edd5f",
   "metadata": {},
   "source": [
    "\n",
    "# 39. Perpetuities and continuous compounding (S2.4)   \n",
    "If the interest rate is 7% compounded annually, what is the value of the following three investments?  \n",
    "a. An investment that offers you $100 a year in perpetuity with the payment at the end of each year.  \n",
    "b. A similar investment with the payment at the beginning of each year.  \n",
    "c. A similar investment with the payment spread evenly over each year.  "
   ]
  },
  {
   "cell_type": "code",
   "execution_count": 7,
   "id": "26fa3c03-ccbf-4046-b01d-ff21a40cf5ef",
   "metadata": {},
   "outputs": [
    {
     "name": "stdout",
     "output_type": "stream",
     "text": [
      "                                       Investment Present value\n",
      "     Perpetuity - payments at the end of the year      1,666.67\n",
      "Perpetuity - payment at the beginning of the year      1,766.67\n",
      "  Perpetuity payments spead evenly over each year      1,716.18\n"
     ]
    }
   ],
   "source": [
    "C = 100\n",
    "r = 0.06\n",
    "results = []\n",
    "\n",
    "investments = {\n",
    "    \"Perpetuity - payments at the end of the year\": {\"type\": \"ordinary\"},\n",
    "    \"Perpetuity - payment at the beginning of the year\": {\"type\":\"due\" },\n",
    "    \"Perpetuity payments spead evenly over each year\": {\"type\": \"continous\" }\n",
    "\n",
    "}\n",
    "\n",
    "for name, info in investments.items():\n",
    "    if(info[\"type\"]==\"ordinary\"):\n",
    "        value = C/r\n",
    "    elif(info[\"type\"]==\"due\"):\n",
    "        value = (C/r)*(1+r)\n",
    "    elif(info[\"type\"]==\"continous\"):\n",
    "        p = np.log(1+r)\n",
    "        value = C/p\n",
    "\n",
    "    results.append({\"Investment\": name, \"Present value\": value})\n",
    "\n",
    "df = pd.DataFrame(results)\n",
    "df[\"Present value\"] = df[\"Present value\"].apply(lambda x :f\"{x:,.2f}\")\n",
    "\n",
    "print(df.to_string(index = False))"
   ]
  },
  {
   "cell_type": "markdown",
   "id": "396b776d-310e-46c1-bfb7-cd2744037770",
   "metadata": {},
   "source": [
    "# 40. Continuous compounding (S2.4)   \n",
    "How much will you have at the end of 20 years if you invest $100 today at 15% annually compounded? How much will you have if you invest at 15% continuously compounded?"
   ]
  },
  {
   "cell_type": "code",
   "execution_count": 12,
   "id": "91683ffd-86a8-4fd9-8739-e91441c6cf81",
   "metadata": {},
   "outputs": [
    {
     "name": "stdout",
     "output_type": "stream",
     "text": [
      "For the annually case: $: 1,636.65 and for the continuosly, $ 2,008.55\n"
     ]
    }
   ],
   "source": [
    "\n",
    "principal = 100\n",
    "r = 0.15\n",
    "t = 20\n",
    "\n",
    "FV_annualy = principal*(1+r)**t\n",
    "FV_continuously = principal*(np.exp(r*t))\n",
    "\n",
    "print(\"For the annually case: $:\",f\"{FV_annualy:,.2f}\", \"and for the continuosly, $\", f\"{FV_continuously:,.2f}\")"
   ]
  },
  {
   "cell_type": "markdown",
   "id": "559da9e6-31de-4738-ac2a-67074c612824",
   "metadata": {},
   "source": [
    "# 41. Continuous compounding (S2.4)  \n",
    "The continuously compounded interest rate is 12%.  \n",
    "a. You invest \\\\$1,000 at this rate. What is the investment worth after five years?  \n",
    "b. What is the PV of \\\\$5 million to be received in eight years?  \n",
    "c. What is the PV of a continuous stream of cash flows, amounting to $2,000 per year, starting immediately and continuing for 15 years?"
   ]
  },
  {
   "cell_type": "code",
   "execution_count": null,
   "id": "3fc3e1cf-e3d7-467b-a78e-1ed595a018de",
   "metadata": {},
   "outputs": [],
   "source": []
  }
 ],
 "metadata": {
  "kernelspec": {
   "display_name": "Python 3 (ipykernel)",
   "language": "python",
   "name": "python3"
  },
  "language_info": {
   "codemirror_mode": {
    "name": "ipython",
    "version": 3
   },
   "file_extension": ".py",
   "mimetype": "text/x-python",
   "name": "python",
   "nbconvert_exporter": "python",
   "pygments_lexer": "ipython3",
   "version": "3.10.18"
  }
 },
 "nbformat": 4,
 "nbformat_minor": 5
}
