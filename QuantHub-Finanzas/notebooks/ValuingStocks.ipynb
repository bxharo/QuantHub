{
 "cells": [
  {
   "cell_type": "markdown",
   "id": "21cd55bb-008e-4467-8228-5a71c0139d44",
   "metadata": {},
   "source": [
    "# 4.1 Self Test \n",
    "<span style=\"color:blue\"> a. The stock of Thor Hammer Co. offers an expected one-year rate of return of 11%. How is that possible if the company pays no cash dividends? </span>  \n",
    "Because the expected return depends not only on dividends but also on the expected increase in the share price.\n",
    "\n",
    "<span style=\"color:blue\"> b. Steamtool Inc. pays a generous cash dividend, but investors regard its stock as much\n",
    "riskier than Thor stock. What can you conclude about the expected rate of return on\n",
    "Steamtool stock? </span> \n",
    "The expected rate of return on Steamtool’s stock should be higher than that of Thor’s stock, because investors require a higher return to compensate for the greater risk."
   ]
  },
  {
   "cell_type": "markdown",
   "id": "2f312398-2a80-4876-bebb-b33fe926d3ee",
   "metadata": {},
   "source": [
    "# 4.2 Self Test \n",
    "<span style=\"color:blue\"> Kevin Devon plans to hold his position in Steamtool shares for two years. His Aunt Cleo has\n",
    "also purchased Steamtool shares and contributed them to a trust for her granddaughter. The\n",
    "trust will probably hold these shares for at least a decade. Could you apply the DCF valuation\n",
    "formula to both investments? Explain how briefly.</span>  \n",
    "\n"
   ]
  },
  {
   "cell_type": "markdown",
   "id": "c683d40a-24c0-4308-94b2-cce917af49c9",
   "metadata": {},
   "source": [
    "The DCF (Discounted Cash Flow) valuation formula can be applied to both investments, but with different horizons.\n",
    "Kevin case\n",
    "\n",
    "P0 = DIV1/(1 + r)**1 + DIV2/( 1 + r)**2 + P2/(1 +r)**2\n",
    "\n",
    "Aunt Cleo\n",
    " P0 = Sumatoria (t = 1 / t= oo) de DIV/(1 + r )**t\n",
    "\n",
    " "
   ]
  },
  {
   "cell_type": "code",
   "execution_count": null,
   "id": "d3bd07ed-7424-4e5f-b27a-d18c564cddde",
   "metadata": {},
   "outputs": [],
   "source": []
  }
 ],
 "metadata": {
  "kernelspec": {
   "display_name": "Python 3 (ipykernel)",
   "language": "python",
   "name": "python3"
  },
  "language_info": {
   "codemirror_mode": {
    "name": "ipython",
    "version": 3
   },
   "file_extension": ".py",
   "mimetype": "text/x-python",
   "name": "python",
   "nbconvert_exporter": "python",
   "pygments_lexer": "ipython3",
   "version": "3.10.18"
  }
 },
 "nbformat": 4,
 "nbformat_minor": 5
}
