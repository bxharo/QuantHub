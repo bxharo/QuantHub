{
 "cells": [
  {
   "cell_type": "code",
   "execution_count": 5,
   "id": "3323ef52-617f-4388-b8d2-e818565d102e",
   "metadata": {},
   "outputs": [
    {
     "ename": "ModuleNotFoundError",
     "evalue": "No module named 'numpy_financial'",
     "output_type": "error",
     "traceback": [
      "\u001b[0;31m---------------------------------------------------------------------------\u001b[0m",
      "\u001b[0;31mModuleNotFoundError\u001b[0m                       Traceback (most recent call last)",
      "Cell \u001b[0;32mIn[5], line 5\u001b[0m\n\u001b[1;32m      3\u001b[0m \u001b[38;5;28;01mimport\u001b[39;00m\u001b[38;5;250m \u001b[39m\u001b[38;5;21;01mmatplotlib\u001b[39;00m\u001b[38;5;21;01m.\u001b[39;00m\u001b[38;5;21;01mpyplot\u001b[39;00m\u001b[38;5;250m \u001b[39m\u001b[38;5;28;01mas\u001b[39;00m\u001b[38;5;250m \u001b[39m\u001b[38;5;21;01mplt\u001b[39;00m\n\u001b[1;32m      4\u001b[0m \u001b[38;5;28;01mfrom\u001b[39;00m\u001b[38;5;250m \u001b[39m\u001b[38;5;21;01mscipy\u001b[39;00m\u001b[38;5;21;01m.\u001b[39;00m\u001b[38;5;21;01moptimize\u001b[39;00m\u001b[38;5;250m \u001b[39m\u001b[38;5;28;01mimport\u001b[39;00m fsolve\n\u001b[0;32m----> 5\u001b[0m \u001b[38;5;28;01mimport\u001b[39;00m\u001b[38;5;250m \u001b[39m\u001b[38;5;21;01mnumpy_financial\u001b[39;00m\u001b[38;5;250m \u001b[39m\u001b[38;5;28;01mas\u001b[39;00m\u001b[38;5;250m \u001b[39m\u001b[38;5;21;01mnpf\u001b[39;00m\n",
      "\u001b[0;31mModuleNotFoundError\u001b[0m: No module named 'numpy_financial'"
     ]
    }
   ],
   "source": [
    "import numpy as np\n",
    "import pandas as pd\n",
    "import matplotlib.pyplot as plt\n",
    "from scipy.optimize import fsolve\n",
    "import numpy_financial as npf"
   ]
  },
  {
   "cell_type": "markdown",
   "id": "d758e446-5276-44f6-9557-8be2980b45bf",
   "metadata": {},
   "source": [
    "A government bond is priced at 105%. \n",
    "Is the yield to maturity higher or lower than the coupon rate?"
   ]
  },
  {
   "cell_type": "markdown",
   "id": "c95028ab-f8c0-4503-9c50-e84df193943a",
   "metadata": {},
   "source": [
    "# 3.2 Self-Test\n",
    "A one-year U.S. Treasury bond has a coupon rate of 10%.  \n",
    "a. What are the cash flows on this bond?  \n",
    "b. The bond’s yield to maturity is 6%. What is the present value of the bond?  \n",
    "c. If the yield to maturity is 6%, what return do you earn every 6 months? d. What is the bond’s effective annual rate of return?"
   ]
  },
  {
   "cell_type": "code",
   "execution_count": 31,
   "id": "590b643d-2887-4d91-8974-4fead81dc1cd",
   "metadata": {},
   "outputs": [
    {
     "name": "stdout",
     "output_type": "stream",
     "text": [
      "The cashflow is: $ 50.0  and $ 1050.0\n",
      "The present value of the treasury bond is: $ 1,038.27\n",
      "The return i earn every 6 months is  3.0 %\n",
      "The bond effective annual rate of return is 6.09 %\n"
     ]
    }
   ],
   "source": [
    "#Usually the U.S Treasury bonds coupons are payed twice a year, semiannualy\n",
    "t = 1  #years to mature\n",
    "n = 2  #periods of payment\n",
    "F = 1000  #face value\n",
    "C = 0.10*F/2  #coupon value\n",
    "y = 0.06\n",
    "\n",
    "print(\"The cashflow is: $\", C ,\" and $\",C + F )\n",
    "\n",
    "def pv_bond(C,F,y,n):\n",
    "    pv = 0\n",
    "    CF = 0\n",
    "    for i in np.arange(1,t*n + 1):\n",
    "        if i< (t*n):\n",
    "            CF = C*(1/(1+y/n))**i\n",
    "        else:\n",
    "             CF = (C+F)*(1/(1+y/n))**i#last cashflow\n",
    "        \n",
    "        pv += CF\n",
    "    \n",
    "    return pv\n",
    "\n",
    "pv_treasury_bond = pv_bond(C,F,y,n)\n",
    "\n",
    "print(\"The present value of the treasury bond is: $\", f\"{pv_treasury_bond:,.2f}\")\n",
    "print(\"The return i earn every 6 months is \", (y/2)*100 , \"%\")\n",
    "print(\"The bond effective annual rate of return is\", f\"{((1+y/2)**n -1)*100:,.2f}\",\"%\")"
   ]
  },
  {
   "cell_type": "markdown",
   "id": "6af8d03c-61e8-47a5-a575-86316aa42936",
   "metadata": {},
   "source": [
    "# 3.3 Self-Test\n",
    "a. Which does not change during the bond’s life—the coupon or the yield?  \n",
    "b. If the yield rises, does the bond price rise or fall?"
   ]
  },
  {
   "cell_type": "markdown",
   "id": "a36df930-2850-452f-a98d-1d28c3fa7075",
   "metadata": {},
   "source": [
    "a. The coupon does not change during the bond's life.  \n",
    "b. If the yield rises the price bond falls."
   ]
  },
  {
   "cell_type": "markdown",
   "id": "4d04ac06-5b9a-402e-aecd-4b8dab058e23",
   "metadata": {},
   "source": [
    "# 3.4 Self-Test\n",
    "If yields decline, which bond is likely to appreciate the most:  \n",
    "a. A 20-year 8% bond or a 5-year 8% bond?  \n",
    "b. A 20-year 8% bond or a 20-year 2% bond?  "
   ]
  },
  {
   "cell_type": "markdown",
   "id": "f844dada-261f-4845-ac6c-057d76970028",
   "metadata": {},
   "source": [
    "a. The 20-year 8% bond has a larger duration so the yield decline has a larger effect on the price\n",
    "\n",
    "b. The 20-year 2% bond has a larger duration so is likely to appreciate the most."
   ]
  },
  {
   "cell_type": "markdown",
   "id": "8298fb43-bc91-43df-baec-08cd8f003763",
   "metadata": {},
   "source": [
    "# 3.5 Self-Test  \n",
    "Suppose that you used the 3.66% yield, calculated earlier, to value a two-year 5% bond.  \n",
    "a. Would you get the correct answer? If not, why not?  \n",
    "b. Do you think that you would over- or under-value the bond?  "
   ]
  },
  {
   "cell_type": "markdown",
   "id": "f6c97884-0e08-4001-9a08-1a1d7e737dd3",
   "metadata": {},
   "source": [
    "a.- No, you won’t get the correct value, because proper valuation requires discounting each cash flow at its spot rate.  \n",
    "b.- If the curve is normal (upward sloping, as is typical), you would overvalue the bond."
   ]
  },
  {
   "cell_type": "markdown",
   "id": "b9090996-2348-447f-9e85-3ad3bff0fd0e",
   "metadata": {},
   "source": [
    "# 3.6 Self-Test\n",
    "Suppose that the 20-year discount factor is 0.3769. What is the 20-year spot rate, r20?\n"
   ]
  },
  {
   "cell_type": "code",
   "execution_count": 4,
   "id": "0528e957-a442-4003-a88d-58e314294bbc",
   "metadata": {},
   "outputs": [
    {
     "name": "stdout",
     "output_type": "stream",
     "text": [
      "The 20-year spot rate, r20 is : 0.05\n"
     ]
    }
   ],
   "source": [
    "DF_20 = 0.3769\n",
    "\n",
    "r20 = (1/DF_20)**(1/20) - 1\n",
    "\n",
    "print(f\"The 20-year spot rate, r20 is : {r20:,.2f}\")"
   ]
  },
  {
   "cell_type": "markdown",
   "id": "6df81b33-098f-4ee4-b244-7c30e852417d",
   "metadata": {},
   "source": [
    "# 1. Bond prices and yields (S3.1) \n",
    "A 10-year bond is issued with a face value of \\\\$1,000, paying interest of \\\\$60 a year. If interest rates increase shortly after the bond is issued, what happens\n",
    "to the bond’s  \n",
    "a. Coupon rate?  \n",
    "b. Price?  \n",
    "c. Yield to maturity?  "
   ]
  },
  {
   "cell_type": "code",
   "execution_count": 2,
   "id": "72f6e727-150f-4e13-9b01-7364ca29f352",
   "metadata": {},
   "outputs": [
    {
     "name": "stdout",
     "output_type": "stream",
     "text": [
      "1000.0\n"
     ]
    }
   ],
   "source": [
    "#a. The coupon rate stayes the same\n",
    "#b. The price of the bond goes down \n",
    "#c. The yield to maturity goes up "
   ]
  },
  {
   "cell_type": "markdown",
   "id": "e6eb2f72-6981-4ee5-bad8-a5785133ec6d",
   "metadata": {},
   "source": [
    "# 2. Bond prices and yields (S3.1)\n",
    "The following statements are true. Explain why.  \n",
    "a. If a bond’s coupon rate is higher than its yield to maturity, then the bond will sell for more\n",
    "than face value.  \n",
    "b. If a bond’s coupon rate is lower than its yield to maturity, then the bond’s price will\n",
    "increase over its remaining maturity.  "
   ]
  },
  {
   "cell_type": "code",
   "execution_count": 4,
   "id": "42cfa88a-91d6-4ca2-8a91-6d8ec80bfb13",
   "metadata": {},
   "outputs": [],
   "source": [
    "#a. TRUE - If the coupon rate is higher than the yield to maturity, then the bond will sell for more than the face value \n",
    "#because investors are paying to receive larger coupon payments compared to the lower yield in the market. \n",
    "\n",
    "#b. FALSE - If a bond's coupon rate is lower than its yield to maturity, then the bond's price will increase over it ISN'T remaining \n",
    "#maturity because the bond just increases toward par value becasuse i'll be paid back that amount at maturity and no more than that"
   ]
  },
  {
   "cell_type": "markdown",
   "id": "e2135d9b-986e-4a60-bfbe-3389e605538f",
   "metadata": {},
   "source": [
    "# 3. Bond prices and yields (S3.1) \n",
    "Construct some simple examples to illustrate your answers to the following:  \n",
    "a. If interest rates rise, do bond prices rise or fall?  \n",
    "b. If the bond yield to maturity is greater than the coupon, is the price of the bond greater or\n",
    "less than 100?  \n",
    "c. If the price of a bond exceeds 100, is the yield to maturity greater or less than the coupon?  \n",
    "d. Do high-coupon bonds sell at higher or lower prices than low-coupon bonds?  \n",
    "e. If interest rates change, do the prices of high-coupon bonds change proportionately more\n",
    "than that of low-coupon bonds?  "
   ]
  },
  {
   "cell_type": "code",
   "execution_count": 35,
   "id": "8b7b597d-92e8-4971-a60d-5e9fe6427550",
   "metadata": {},
   "outputs": [
    {
     "name": "stdout",
     "output_type": "stream",
     "text": [
      "a. If the interest rates rises then the bond price fall \n",
      "b. If the yield to maturity is greater than the coupon then the bond price is at discount so it is less than 100% of the face value\n",
      "c. If the price of a bond exceeds a 100 then the yield to maturity is less than the coupon\n",
      "d. High-coupon bonds sell at higher prices than low-coupon bonds\n",
      "e. Yes. the prices of high-coupon bonds change proportionately more than that of low-coupon bonds\n"
     ]
    },
    {
     "data": {
      "image/png": "[encoded data removed]",
      "text/plain": [
       "<Figure size 400x300 with 1 Axes>"
      ]
     },
     "metadata": {},
     "output_type": "display_data"
    }
   ],
   "source": [
    "face_value = 1000 #(1 , 1)\n",
    "ytm = np.array([0.02,0.03,0.04, 0.05,0.07,0.1]) #(4, 1)\n",
    "i = np.arange(1,len(ytm)+1) #(4, 1)\n",
    "coupon_rate = 0.05\n",
    "maturity_years = 3\n",
    "\n",
    "#suma vectorizada\n",
    "pv_coupons = np.sum(coupon_rate*face_value*(1/(1+ytm)**i))\n",
    "\n",
    "pv_facevalue = face_value*(1/(1+ytm)**i[-1])\n",
    "\n",
    "present_value_bond = pv_coupons + pv_facevalue\n",
    "\n",
    "plt.figure(figsize=(4,3))\n",
    "plt.plot(ytm*100, present_value_bond, color ='blue',lw=2)\n",
    "plt.xlabel(\"Yield to Maturity (%)\")\n",
    "plt.ylabel(\"Bond's price ($)\")\n",
    "plt.title(\"Bond price vs Yield to Maturity\")\n",
    "plt.grid(True)\n",
    "\n",
    "\n",
    "print(\"a. If the interest rates rises then the bond price fall \")\n",
    "print(\"b. If the yield to maturity is greater than the coupon then the bond price sells at discount (less than 100% of the face value)\")\n",
    "print(\"c. If the price of a bond exceeds a 100%, then the yield to maturity is less than the coupon rate\")\n",
    "print(\"d. Given the same maturity and YTM, high-coupon bonds are priced above low-coupon bonds\")\n",
    "print(\"e. No. The prices of low-coupon bonds change proportionately more than those of high-coupon bonds.\")"
   ]
  },
  {
   "cell_type": "markdown",
   "id": "8f5bb509-5fea-4f3e-b57b-734b0d98e5e4",
   "metadata": {},
   "source": [
    "# 4. Bond prices and yields (S3.1) \n",
    "A 10-year German government bond (bund) has a face value of €100 and a coupon rate of 5% paid annually. Assume that the interest rate (in euros) is\n",
    "equal to 6% per year. What is the bond’s PV?\n"
   ]
  },
  {
   "cell_type": "code",
   "execution_count": 54,
   "id": "77f3b062-9959-4f08-b8f7-2dd9f197ea0c",
   "metadata": {},
   "outputs": [
    {
     "name": "stdout",
     "output_type": "stream",
     "text": [
      "The bond's PV is : €92.64\n",
      "(closed-form formula)The bond's PV is : €92.64\n"
     ]
    }
   ],
   "source": [
    "face_value = 100\n",
    "coupon_rate = 0.05\n",
    "coupon_frequency = 1\n",
    "yield_to_maturity = 0.06\n",
    "maturity_years = 10\n",
    "#market_price = \n",
    "\n",
    "\n",
    "############################# manual formula ##############################################\n",
    "#cashflows\n",
    "coupon = face_value*coupon_rate\n",
    "i = np.arange(1,maturity_years + 1)  #array for years of maturity\n",
    "discount_factors = 1 / (1 + yield_to_maturity) ** i #discount factors\n",
    "\n",
    "#PV odf the coupons + PV face value\n",
    "pv_coupons = np.sum(coupon*discount_factors)\n",
    "pv_facevalue =  face_value*(discount_factors[-1])\n",
    "pv_10year_bond = pv_coupons + pv_facevalue\n",
    "\n",
    "print(f\"The bond's PV is : €{pv_10year_bond:,.2f}\")\n",
    "\n",
    "\n",
    "############################ closed form formula###########################################\n",
    "\n",
    "#pv of the annuity of coupons\n",
    "pv_coupons_closed = coupon*(1/ytm - 1/(ytm*(ytm+1)**maturity_years))\n",
    "pv_facevalue_closed = face_value*(1/(1+ytm)**maturity_years)\n",
    "pv_10year_bond_closed = pv_coupons_closed + pv_facevalue_closed\n",
    "\n",
    "print(f\"(closed-form formula)The bond's PV is : €{pv_10year_bond:,.2f}\")"
   ]
  },
  {
   "cell_type": "markdown",
   "id": "16c760d5-6c3f-420f-b0b4-a43795712679",
   "metadata": {},
   "source": [
    "# 5. Bond prices and yields (S3.1)\n",
    "In December 2020, Treasury $4 \\tfrac{1}{4}\\%$  of 2040 offered a semiannually compounded yield to maturity of 1.32%. Recognizing that coupons are paid semiannually, calculate the bond’s price."
   ]
  },
  {
   "cell_type": "code",
   "execution_count": 5,
   "id": "13b5cf4d-2b8c-4fe6-a2bf-03c2efa352c3",
   "metadata": {},
   "outputs": [
    {
     "name": "stdout",
     "output_type": "stream",
     "text": [
      "The bond's price is $151.35\n",
      "The bond's price is $151.35\n"
     ]
    }
   ],
   "source": [
    "coupon_rate = 0.0425\n",
    "coupon_frequency = 2\n",
    "yield_to_maturity = 0.0132\n",
    "maturity_years = 20\n",
    "face_value = 100\n",
    "\n",
    "########################### manual form ############################\n",
    "\n",
    "coupon_per_period = coupon_rate * face_value/coupon_frequency\n",
    "i = np.arange(1 , maturity_years*coupon_frequency + 1)\n",
    "discount_factors = 1/( 1 + yield_to_maturity/coupon_frequency)**i\n",
    "\n",
    "#pv of the stream of coupons + pv facevalue\n",
    "pv_coupons = np.sum(coupon_per_period*discount_factors)\n",
    "pv_facevalue = face_value*(1/(1+ yield_to_maturity/coupon_frequency)**(maturity_years*coupon_frequency))\n",
    "pv_bond = pv_coupons + pv_facevalue\n",
    "print(f\"The bond's price is ${pv_bond:,.2f}\")\n",
    "\n",
    "########################### closed form ############################\n",
    "ytm_adjusted = yield_to_maturity/coupon_frequency\n",
    "maturity_years_adjusted = maturity_years*coupon_frequency\n",
    "#pv of the stream of coupons + pv facevalue\n",
    "pv_coupons_closed = (coupon_per_period/(ytm_adjusted))*(1 - 1/((1 + ytm_adjusted )**maturity_years_adjusted))\n",
    "pv_facevalue_closed = face_value*(1/(1+ ytm_adjusted)**(maturity_years_adjusted))\n",
    "pv_bond_closed = pv_facevalue_closed + pv_coupons_closed\n",
    "\n",
    "print(f\"The bond's price is ${pv_bond_closed:,.2f}\")\n"
   ]
  },
  {
   "cell_type": "markdown",
   "id": "53b7dff2-60ea-4f74-bb73-6f488eb4b81a",
   "metadata": {},
   "source": [
    "# 6. Bond prices and yields (S3.1) \n",
    "A 10-year U.S. Treasury bond with a face value of $1,000 pays a coupon of 5.5% (2.75% of face value every six months). The reported yield to maturity is\n",
    "5.2% (a six-month discount rate of 5.2/2 = 2.6%).  \n",
    "a. What is the present value of the bond?  \n",
    "b. Generate a graph or table showing how the bond’s present value changes for semiannually\n",
    "compounded interest rates between 1% and 15%.  "
   ]
  },
  {
   "cell_type": "code",
   "execution_count": 95,
   "id": "6b52af26-e665-412a-b253-db1f2d5f00d3",
   "metadata": {},
   "outputs": [
    {
     "name": "stdout",
     "output_type": "stream",
     "text": [
      "The bond's present value is $1,023.16\n",
      "The bond's present value is $1,023.16\n",
      " YTM (%)  Bond Price ($)\n",
      "       1         1427.22\n",
      "       2         1315.80\n",
      "       3         1214.61\n",
      "       4         1122.64\n",
      "       5         1038.97\n",
      "       6          962.81\n",
      "       7          893.41\n",
      "       8          830.12\n",
      "       9          772.36\n",
      "      10          719.60\n",
      "      11          671.36\n",
      "      12          627.23\n",
      "      13          586.81\n",
      "      14          549.75\n",
      "      15          515.76\n"
     ]
    },
    {
     "data": {
      "image/png": "[encoded data removed]",
      "text/plain": [
       "<Figure size 800x550 with 1 Axes>"
      ]
     },
     "metadata": {},
     "output_type": "display_data"
    }
   ],
   "source": [
    "maturity_years = 10\n",
    "coupon_rate = 0.055\n",
    "frequency_coupon = 2\n",
    "yield_to_maturity = 0.052\n",
    "face_value = 1000\n",
    "coupon = coupon_rate*face_value\n",
    "\n",
    "#coupon rate is greater than the yield to maturity so it's a premium bond\n",
    "\n",
    "########################### manual form ############################\n",
    "#present value of the bond\n",
    "ytm_per_period = yield_to_maturity/frequency_coupon\n",
    "coupon_per_period =  coupon/frequency_coupon\n",
    "i = np.arange(1,frequency_coupon*maturity_years + 1)\n",
    "discount_factor = 1/(1+ytm_per_period)**i\n",
    "\n",
    "pv_coupons = np.sum(coupon_per_period*(discount_factor))\n",
    "pv_face_value = face_value*(1/(1+ytm_per_period)**i[-1])\n",
    "pv_bond = pv_coupons + pv_face_value\n",
    "\n",
    "print(f\"The bond's present value is ${pv_bond:,.2f}\" )\n",
    "\n",
    "########################### closed form ############################\n",
    "pv_coupons_closed = (coupon_per_period/ytm_per_period)*(1 - 1/(1 + ytm_per_period)**i[-1])\n",
    "pv_face_value_closed = face_value*(1/(1 + ytm_per_period)**i[-1])\n",
    "pv_bond_closed = pv_coupons_closed + pv_face_value_closed\n",
    "\n",
    "print(f\"The bond's present value is ${pv_bond_closed:,.2f}\" )\n",
    "\n",
    "\n",
    "#rates graph\n",
    "\n",
    "rates = np.arange(1, 16)/100\n",
    "#cashflows per period without faced value\n",
    "cashflows =  np.array([coupon_rate*face_value/frequency_coupon]*(maturity_years*frequency_coupon))\n",
    "#cashflows per period with face value\n",
    "cashflows[-1] += face_value\n",
    "\n",
    "\n",
    "pvs_bond = np.array([])\n",
    "pv_bond = 0\n",
    "for j in rates:\n",
    "    discounted_factors = 1/((1+j/frequency_coupon)**i)\n",
    "    pv_bond = np.sum(cashflows*discounted_factors)\n",
    "    pvs_bond = np.append(pvs_bond,pv_bond)\n",
    "\n",
    "# Crear DataFrame\n",
    "df = pd.DataFrame({\n",
    "    \"YTM (%)\": (rates * 100).astype(int),\n",
    "    \"Bond Price ($)\": np.round(pvs_bond, 2)\n",
    "})\n",
    "\n",
    "print(df.to_string(index=False))\n",
    "\n",
    "#printing the rates vs the bonds prices\n",
    "np.set_printoptions(precision=2) \n",
    "    \n",
    "plt.figure(figsize=(8,5.5))\n",
    "plt.plot(rates*100, pvs_bond,  marker='o', linestyle='-', color='navy')\n",
    "plt.xlabel(\"Yield To Maturity (%)\")\n",
    "plt.ylabel(\"Bond's Present Value ($)\")\n",
    "plt.title(\"Bond Price vs Yield to Maturity\", fontsize=14, fontweight=\"bold\")\n",
    "\n",
    "for x, y in zip(rates * 100, pvs_bond):\n",
    "    plt.text(x, y, f\"${y:,.0f}\", ha='center', va='bottom', fontsize=8, rotation=45)\n",
    "             \n",
    "plt.grid(True, which='both', linestyle='--', linewidth=0.7)\n",
    "plt.show()"
   ]
  },
  {
   "cell_type": "markdown",
   "id": "79987215-ad52-4444-935c-05d78f0c3c91",
   "metadata": {},
   "source": [
    "# 7. Bond prices and yields (S3.1)\n",
    "Choose 10 U.S. Treasury bonds with different coupons and different maturities. Calculate how their prices would change if their yields to maturity\n",
    "increased by 1 percentage point. Are long- or short-term bonds most affected by the change in yields? Are high- or low-coupon bonds most affected? (For simplicity, assume annual coupon payments.)"
   ]
  },
  {
   "cell_type": "markdown",
   "id": "7ccc8bcc-e6d9-4095-a8a4-73d9b2665bb3",
   "metadata": {},
   "source": [
    "#\tCupón estimado\tVencimiento\n",
    "1\talto (por ejemplo ≈ 5-6 %)\t1 año  \n",
    "2\tbajo (≈ 1-2 %)\t1 año  \n",
    "3\tmedio (≈ 3-4 %)\t5 años  \n",
    "4\talto (≈ 5-6 %)\t5 años  \n",
    "5\tbajo (≈ 1-2 %)\t10 años  \n",
    "6\tmedio\t10 años  \n",
    "7\talto\t20 años  \n",
    "8\tbajo\t20 años  \n",
    "9\tmedio\t30 años  \n",
    "10\talto o bajo extremos (muy bajo o muy alto)\t30 años  "
   ]
  },
  {
   "cell_type": "code",
   "execution_count": 114,
   "id": "09a8bf25-74d0-416c-9a87-cc22db4db739",
   "metadata": {},
   "outputs": [
    {
     "name": "stdout",
     "output_type": "stream",
     "text": [
      " Coupon rate (%)  Maturity (yrs)  Price @4% ($)  Price @5% ($)  Δ Price ($)\n",
      "             5.0               1        1009.62        1000.00        -9.62\n",
      "             1.0               1         971.15         961.90        -9.25\n",
      "             3.0               5         955.48         913.41       -42.07\n",
      "             5.0               5        1044.52        1000.00       -44.52\n",
      "             1.0              10         756.67         691.13       -65.54\n",
      "             4.0              10        1000.00         922.78       -77.22\n",
      "             6.0              20        1271.81        1124.62      -147.18\n",
      "             1.0              20         592.29         501.51       -90.78\n",
      "             3.0              30         827.08         692.55      -134.53\n",
      "             0.5              30         394.78         308.24       -86.54\n"
     ]
    }
   ],
   "source": [
    "# Datos\n",
    "maturity_years = np.array([1, 1, 5, 5, 10, 10, 20, 20, 30, 30])\n",
    "coupon_rates   = np.array([0.05, 0.01, 0.03, 0.05, 0.01, 0.04, 0.06, 0.01, 0.03, 0.005])\n",
    "face_value     = 1000\n",
    "ytm            = 0.04\n",
    "shock          = 0.01\n",
    "\n",
    "# Función de precio de bono (asumiendo pagos anuales)\n",
    "def bond_price(coupon_rates, face_value, maturity_years, ytm):\n",
    "    # Valor presente de los cupones\n",
    "    pv_coupons = (coupon_rates * face_value) / ytm * (1 - (1 + ytm) ** (-maturity_years))\n",
    "    # Valor presente del principal\n",
    "    pv_face = face_value * (1 + ytm) ** (-maturity_years)\n",
    "    return pv_coupons + pv_face\n",
    "\n",
    "# Precios vectorizados\n",
    "pv_base = bond_price(coupon_rates, face_value, maturity_years, ytm)\n",
    "pv_up   = bond_price(coupon_rates, face_value, maturity_years, ytm + shock)\n",
    "\n",
    "# Diferencia\n",
    "price_change = pv_up - pv_base\n",
    "\n",
    "# DataFrame\n",
    "df = pd.DataFrame({\n",
    "    \"Coupon rate (%)\": coupon_rates * 100,\n",
    "    \"Maturity (yrs)\": maturity_years,\n",
    "    \"Price @4% ($)\": np.round(pv_base, 2),\n",
    "    \"Price @5% ($)\": np.round(pv_up, 2),\n",
    "    \"Δ Price ($)\": np.round(price_change, 2)\n",
    "})\n",
    "\n",
    "print(df.to_string(index=False))"
   ]
  },
  {
   "cell_type": "markdown",
   "id": "d39763b3-1fb6-4d20-b7b2-93d48f8339ca",
   "metadata": {},
   "source": [
    "# Recordatorio - Es mejor usar vectorización que bucles clásicos e incluso que list comprehensions"
   ]
  },
  {
   "cell_type": "code",
   "execution_count": 116,
   "id": "ebd148bb-0fc8-4441-be2e-08a68bad7701",
   "metadata": {},
   "outputs": [
    {
     "name": "stdout",
     "output_type": "stream",
     "text": [
      "Bucle clásico: 0.3228490352630615 segundos\n",
      "List comprehension: 0.3179183006286621 segundos\n",
      "Vectorización NumPy: 0.00276947021484375 segundos\n"
     ]
    }
   ],
   "source": [
    "import time\n",
    "import numpy as np\n",
    "\n",
    "N = 1_000_000\n",
    "\n",
    "# 1️⃣ Bucle clásico\n",
    "start = time.time()\n",
    "result_loop = []\n",
    "for x in range(N):\n",
    "    result_loop.append(x**2)\n",
    "print(\"Bucle clásico:\", time.time() - start, \"segundos\")\n",
    "\n",
    "# 2️⃣ List comprehension\n",
    "start = time.time()\n",
    "result_listcomp = [x**2 for x in range(N)]\n",
    "print(\"List comprehension:\", time.time() - start, \"segundos\")\n",
    "\n",
    "# 3️⃣ Vectorización con NumPy\n",
    "start = time.time()\n",
    "arr = np.arange(N)\n",
    "result_numpy = arr**2\n",
    "print(\"Vectorización NumPy:\", time.time() - start, \"segundos\")\n"
   ]
  },
  {
   "cell_type": "markdown",
   "id": "c418c1d3-f9fb-4abb-820e-08260580e052",
   "metadata": {},
   "source": [
    "# 8. Bond returns (S3.1) \n",
    "If a bond’s yield to maturity does not change, the return on the bond each year will be equal to the yield to maturity. Confirm this with a simple example of a fouryear bond selling at a premium to face value. Now do the same for a four-year bond selling at a discount. For convenience, assume annual coupon payments."
   ]
  },
  {
   "cell_type": "code",
   "execution_count": 31,
   "id": "102da6cf-35a7-45f9-a979-498d9dcfc5dd",
   "metadata": {},
   "outputs": [
    {
     "name": "stdout",
     "output_type": "stream",
     "text": [
      "[[1.04       1.0816     1.124864   1.16985856]\n",
      " [1.         1.04       1.0816     1.124864  ]\n",
      " [0.96153846 1.         1.04       1.0816    ]]\n",
      "Precio inicial: 1145.2\n",
      "Precios intermedios: [1145.2  1145.2  1111.   1075.44]\n",
      "Retornos anuales: [6.99 4.   4.  ] %\n"
     ]
    }
   ],
   "source": [
    "# Parámetros\n",
    "face_value = 1000\n",
    "coupon_rate = 0.08\n",
    "ytm = 0.04\n",
    "maturity_years = 4\n",
    "\n",
    "# Flujos de caja (años 1..4)\n",
    "years = np.arange(1, maturity_years + 1)\n",
    "cashflows = np.full(maturity_years, face_value * coupon_rate)\n",
    "cashflows[-1] += face_value  # último incluye principal\n",
    "\n",
    "# Precio inicial\n",
    "price0 = np.sum(cashflows / (1+ytm)**years)\n",
    "\n",
    "# Precios intermedios: P1..P3\n",
    "t = np.arange(maturity_years-1)[:, None]      # 0,1,2\n",
    "k = np.arange(1, maturity_years+1)            # 1..4\n",
    "mask = k > t                                  # solo flujos futuros\n",
    "discounts = (1+ytm)**(k-t)                    # factor de descuento relativo\n",
    "prices_intermediate = np.add.reduce(np.where(mask, cashflows/discounts, 0), axis=1)\n",
    "\n",
    "# Concatenamos P0,P1,P2,P3\n",
    "prices = np.r_[price0, prices_intermediate]\n",
    "\n",
    "# Retornos: años 1,2,3\n",
    "returns = (cashflows[:-1] + prices[1:] - prices[:-1]) / prices[:-1]\n",
    "\n",
    "\n",
    "print(\"Precio inicial:\", round(price0, 2))\n",
    "print(\"Precios intermedios:\", np.round(prices, 2))\n",
    "print(\"Retornos anuales:\", np.round(returns*100, 2), \"%\")"
   ]
  },
  {
   "cell_type": "markdown",
   "id": "dcc5c67a-a225-4e92-bcc2-c6ef397ae7c5",
   "metadata": {},
   "source": [
    "# 9. Bond returns (S3.1)\n",
    "a. An 8%, five-year bond yields 6%. If this yield to maturity remains unchanged, what will be its price one year hence? Assume annual coupon payments and a face value of $1,000.  \n",
    "b. What is the total return to an investor who held the bond over this year?  \n",
    "c. What can you deduce about the relationship between the bond return over a particular  \n",
    "period and the yields to maturity at the start and end of that period?"
   ]
  },
  {
   "cell_type": "markdown",
   "id": "8b125ed8-1d89-4c97-a2b1-b1ed0ad10d3c",
   "metadata": {},
   "source": [
    "# 10. Bond returns (S3.1) \n",
    "A six-year government bond makes annual coupon payments of 5% and offers a yield of 3% annually compounded. Suppose that one year later the bond still yields 3%. What return has the bondholder earned over the 12-month period? Now suppose that the bond yields 2% at the end of the year. What return did the bondholder earn in this case?"
   ]
  },
  {
   "cell_type": "markdown",
   "id": "fb66e71b-705e-4006-864f-3fdae2614f6c",
   "metadata": {},
   "source": [
    "# 11. Duration (S3.2) True or false? Explain.\n",
    "a. Longer-maturity bonds necessarily have longer durations.  \n",
    "b. The longer a bond’s duration, the lower its volatility.  \n",
    "c. Other things equal, the lower the bond coupon, the higher its volatility.  \n",
    "d. If interest rates rise, bond durations rise also.  "
   ]
  },
  {
   "cell_type": "markdown",
   "id": "6c63ec03-6d46-4d98-b1a6-51992da84a0f",
   "metadata": {},
   "source": [
    "# 12. Duration (S3.2) \n",
    "Here are the prices of three bonds with 10-year maturities:"
   ]
  },
  {
   "cell_type": "markdown",
   "id": "91dc05ee-bd07-4f7c-96b7-5f70ea4f84ba",
   "metadata": {},
   "source": [
    "<img src=\"Bonds_01.png\" width=\"300\">  "
   ]
  },
  {
   "cell_type": "markdown",
   "id": "dcd0d693-e799-411d-9508-4e9c9eac6489",
   "metadata": {},
   "source": [
    "If coupons are paid annually, which bond offered the highest yield to maturity? Which had\n",
    "the lowest? Which bonds had the longest and shortest durations?"
   ]
  },
  {
   "cell_type": "markdown",
   "id": "d5fabad9-f16e-4c48-a7ad-6ccd5cfec5d4",
   "metadata": {},
   "source": [
    "# 13. Duration (S3.2)\n",
    "Calculate the durations and volatilities of securities A, B, and C. Their cash flows are shown below. The interest rate is 8%."
   ]
  },
  {
   "cell_type": "markdown",
   "id": "9a5dcfda-7aa5-4ee1-b201-3cc9b30fc178",
   "metadata": {},
   "source": [
    "<img src=\"Bonds_02.png\" width=\"300\">  "
   ]
  },
  {
   "cell_type": "markdown",
   "id": "cd0d0e69-1e42-4ced-b9f3-f50e78300c5b",
   "metadata": {},
   "source": [
    "# 14. Duration (S3.2)\n",
    "Calculate durations and modified durations for the 3% bonds in Table 3.2. You can follow the procedure set out in Table 3.4 for the 9% coupon bonds. Confirm that modified duration closely predicts the impact of a 1% change in interest rates on the bond prices."
   ]
  },
  {
   "cell_type": "markdown",
   "id": "d6d60507-b328-4869-a0c5-e60990521cd0",
   "metadata": {},
   "source": [
    "# 15. Duration (S3.2) \n",
    "Find the spreadsheet for Table 3.4 in Connect. Show how duration and volatility change if (a) the bond’s coupon is 8% of face value and (b) the bond’s yield is 6%. \n",
    "Explain your finding."
   ]
  },
  {
   "cell_type": "markdown",
   "id": "0237e162-2018-4cc4-8b4f-b7ab9c368446",
   "metadata": {},
   "source": [
    "<img src=\"Bonds_04.png\" width=\"500\">  \n",
    "\n",
    "<img src=\"Bonds_03.png\" width=\"600\">  "
   ]
  },
  {
   "cell_type": "code",
   "execution_count": null,
   "id": "95e145a1-4b27-4898-9b8c-902941615f11",
   "metadata": {},
   "outputs": [],
   "source": []
  }
 ],
 "metadata": {
  "kernelspec": {
   "display_name": "Python 3 (ipykernel)",
   "language": "python",
   "name": "python3"
  },
  "language_info": {
   "codemirror_mode": {
    "name": "ipython",
    "version": 3
   },
   "file_extension": ".py",
   "mimetype": "text/x-python",
   "name": "python",
   "nbconvert_exporter": "python",
   "pygments_lexer": "ipython3",
   "version": "3.10.18"
  }
 },
 "nbformat": 4,
 "nbformat_minor": 5
}
